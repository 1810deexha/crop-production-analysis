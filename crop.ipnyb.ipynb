{
 "cells": [
  {
   "cell_type": "code",
   "execution_count": 8,
   "metadata": {},
   "outputs": [],
   "source": [
    "import pandas as pd\n",
    "import numpy as np\n",
    "import seaborn as sns\n",
    "import matplotlib.pyplot as plt"
   ]
  },
  {
   "cell_type": "code",
   "execution_count": 9,
   "metadata": {},
   "outputs": [],
   "source": [
    "data = pd.read_csv(\"Crop_Production_data.csv\")"
   ]
  },
  {
   "cell_type": "code",
   "execution_count": 10,
   "metadata": {},
   "outputs": [
    {
     "data": {
      "text/html": [
       "<div>\n",
       "<style scoped>\n",
       "    .dataframe tbody tr th:only-of-type {\n",
       "        vertical-align: middle;\n",
       "    }\n",
       "\n",
       "    .dataframe tbody tr th {\n",
       "        vertical-align: top;\n",
       "    }\n",
       "\n",
       "    .dataframe thead th {\n",
       "        text-align: right;\n",
       "    }\n",
       "</style>\n",
       "<table border=\"1\" class=\"dataframe\">\n",
       "  <thead>\n",
       "    <tr style=\"text-align: right;\">\n",
       "      <th></th>\n",
       "      <th>State_Name</th>\n",
       "      <th>District_Name</th>\n",
       "      <th>Crop_Year</th>\n",
       "      <th>Season</th>\n",
       "      <th>Crop</th>\n",
       "      <th>Area</th>\n",
       "      <th>Production</th>\n",
       "    </tr>\n",
       "  </thead>\n",
       "  <tbody>\n",
       "    <tr>\n",
       "      <th>0</th>\n",
       "      <td>Andaman and Nicobar Islands</td>\n",
       "      <td>NICOBARS</td>\n",
       "      <td>2000</td>\n",
       "      <td>Kharif</td>\n",
       "      <td>Arecanut</td>\n",
       "      <td>1254.0</td>\n",
       "      <td>2000.0</td>\n",
       "    </tr>\n",
       "    <tr>\n",
       "      <th>1</th>\n",
       "      <td>Andaman and Nicobar Islands</td>\n",
       "      <td>NICOBARS</td>\n",
       "      <td>2000</td>\n",
       "      <td>Kharif</td>\n",
       "      <td>Other Kharif pulses</td>\n",
       "      <td>2.0</td>\n",
       "      <td>1.0</td>\n",
       "    </tr>\n",
       "    <tr>\n",
       "      <th>2</th>\n",
       "      <td>Andaman and Nicobar Islands</td>\n",
       "      <td>NICOBARS</td>\n",
       "      <td>2000</td>\n",
       "      <td>Kharif</td>\n",
       "      <td>Rice</td>\n",
       "      <td>102.0</td>\n",
       "      <td>321.0</td>\n",
       "    </tr>\n",
       "    <tr>\n",
       "      <th>3</th>\n",
       "      <td>Andaman and Nicobar Islands</td>\n",
       "      <td>NICOBARS</td>\n",
       "      <td>2000</td>\n",
       "      <td>Whole Year</td>\n",
       "      <td>Banana</td>\n",
       "      <td>176.0</td>\n",
       "      <td>641.0</td>\n",
       "    </tr>\n",
       "    <tr>\n",
       "      <th>4</th>\n",
       "      <td>Andaman and Nicobar Islands</td>\n",
       "      <td>NICOBARS</td>\n",
       "      <td>2000</td>\n",
       "      <td>Whole Year</td>\n",
       "      <td>Cashewnut</td>\n",
       "      <td>720.0</td>\n",
       "      <td>165.0</td>\n",
       "    </tr>\n",
       "  </tbody>\n",
       "</table>\n",
       "</div>"
      ],
      "text/plain": [
       "                    State_Name District_Name  Crop_Year       Season  \\\n",
       "0  Andaman and Nicobar Islands      NICOBARS       2000  Kharif        \n",
       "1  Andaman and Nicobar Islands      NICOBARS       2000  Kharif        \n",
       "2  Andaman and Nicobar Islands      NICOBARS       2000  Kharif        \n",
       "3  Andaman and Nicobar Islands      NICOBARS       2000  Whole Year    \n",
       "4  Andaman and Nicobar Islands      NICOBARS       2000  Whole Year    \n",
       "\n",
       "                  Crop    Area  Production  \n",
       "0             Arecanut  1254.0      2000.0  \n",
       "1  Other Kharif pulses     2.0         1.0  \n",
       "2                 Rice   102.0       321.0  \n",
       "3               Banana   176.0       641.0  \n",
       "4            Cashewnut   720.0       165.0  "
      ]
     },
     "execution_count": 10,
     "metadata": {},
     "output_type": "execute_result"
    }
   ],
   "source": [
    "data.head()\n"
   ]
  },
  {
   "cell_type": "code",
   "execution_count": 11,
   "metadata": {},
   "outputs": [
    {
     "data": {
      "text/plain": [
       "(246091, 7)"
      ]
     },
     "execution_count": 11,
     "metadata": {},
     "output_type": "execute_result"
    }
   ],
   "source": [
    "data.shape\n"
   ]
  },
  {
   "cell_type": "code",
   "execution_count": 12,
   "metadata": {},
   "outputs": [
    {
     "name": "stdout",
     "output_type": "stream",
     "text": [
      "<class 'pandas.core.frame.DataFrame'>\n",
      "RangeIndex: 246091 entries, 0 to 246090\n",
      "Data columns (total 7 columns):\n",
      " #   Column         Non-Null Count   Dtype  \n",
      "---  ------         --------------   -----  \n",
      " 0   State_Name     246091 non-null  object \n",
      " 1   District_Name  246091 non-null  object \n",
      " 2   Crop_Year      246091 non-null  int64  \n",
      " 3   Season         246091 non-null  object \n",
      " 4   Crop           246091 non-null  object \n",
      " 5   Area           246091 non-null  float64\n",
      " 6   Production     242361 non-null  float64\n",
      "dtypes: float64(2), int64(1), object(4)\n",
      "memory usage: 13.1+ MB\n"
     ]
    }
   ],
   "source": [
    "data.info()\n"
   ]
  },
  {
   "cell_type": "code",
   "execution_count": 13,
   "metadata": {},
   "outputs": [
    {
     "data": {
      "text/plain": [
       "RangeIndex(start=0, stop=246091, step=1)"
      ]
     },
     "execution_count": 13,
     "metadata": {},
     "output_type": "execute_result"
    }
   ],
   "source": [
    "data.index"
   ]
  },
  {
   "cell_type": "code",
   "execution_count": 14,
   "metadata": {},
   "outputs": [
    {
     "data": {
      "text/plain": [
       "Index(['State_Name', 'District_Name', 'Crop_Year', 'Season', 'Crop', 'Area',\n",
       "       'Production'],\n",
       "      dtype='object')"
      ]
     },
     "execution_count": 14,
     "metadata": {},
     "output_type": "execute_result"
    }
   ],
   "source": [
    "data.columns"
   ]
  },
  {
   "cell_type": "code",
   "execution_count": 15,
   "metadata": {},
   "outputs": [
    {
     "data": {
      "image/png": "[encoded data removed]",
      "text/plain": [
       "<Figure size 1000x600 with 1 Axes>"
      ]
     },
     "metadata": {},
     "output_type": "display_data"
    }
   ],
   "source": [
    "# Crop-wise production (Top 10 crops)\n",
    "crop_production = data.groupby('Crop')['Production'].sum().sort_values(ascending=False).head(4)\n",
    "plt.figure(figsize=(10, 6))\n",
    "crop_production.plot(kind='barh', color='skyblue')\n",
    "plt.title('Total Production by Top 4 Crops')\n",
    "plt.xlabel('Total Production')\n",
    "plt.ylabel('Crop')\n",
    "plt.show()\n"
   ]
  },
  {
   "cell_type": "code",
   "execution_count": 16,
   "metadata": {},
   "outputs": [
    {
     "name": "stdout",
     "output_type": "stream",
     "text": [
      "                    State_Name District_Name  Crop_Year       Season  \\\n",
      "0  Andaman and Nicobar Islands      NICOBARS       2000  Kharif        \n",
      "1  Andaman and Nicobar Islands      NICOBARS       2000  Kharif        \n",
      "2  Andaman and Nicobar Islands      NICOBARS       2000  Kharif        \n",
      "3  Andaman and Nicobar Islands      NICOBARS       2000  Whole Year    \n",
      "4  Andaman and Nicobar Islands      NICOBARS       2000  Whole Year    \n",
      "\n",
      "                  Crop    Area  Production  \n",
      "0             Arecanut  1254.0      2000.0  \n",
      "1  Other Kharif pulses     2.0         1.0  \n",
      "2                 Rice   102.0       321.0  \n",
      "3               Banana   176.0       641.0  \n",
      "4            Cashewnut   720.0       165.0  \n",
      "State_Name          0\n",
      "District_Name       0\n",
      "Crop_Year           0\n",
      "Season              0\n",
      "Crop                0\n",
      "Area                0\n",
      "Production       3730\n",
      "dtype: int64\n",
      "           Crop_Year          Area    Production\n",
      "count  246091.000000  2.460910e+05  2.423610e+05\n",
      "mean     2005.643018  1.200282e+04  5.825034e+05\n",
      "std         4.952164  5.052340e+04  1.706581e+07\n",
      "min      1997.000000  4.000000e-02  0.000000e+00\n",
      "25%      2002.000000  8.000000e+01  8.800000e+01\n",
      "50%      2006.000000  5.820000e+02  7.290000e+02\n",
      "75%      2010.000000  4.392000e+03  7.023000e+03\n",
      "max      2015.000000  8.580100e+06  1.250800e+09\n"
     ]
    }
   ],
   "source": [
    "\n",
    "\n",
    "# Display the first few rows\n",
    "print(data.head())\n",
    "\n",
    "# Check for missing values\n",
    "print(data.isnull().sum())\n",
    "\n",
    "# Get summary statistics\n",
    "print(data.describe())\n"
   ]
  },
  {
   "cell_type": "code",
   "execution_count": 17,
   "metadata": {},
   "outputs": [
    {
     "name": "stderr",
     "output_type": "stream",
     "text": [
      "C:\\Users\\Dell\\AppData\\Local\\Temp\\ipykernel_23936\\3886847895.py:2: FutureWarning:\n",
      "\n",
      "A value is trying to be set on a copy of a DataFrame or Series through chained assignment using an inplace method.\n",
      "The behavior will change in pandas 3.0. This inplace method will never work because the intermediate object on which we are setting values always behaves as a copy.\n",
      "\n",
      "For example, when doing 'df[col].method(value, inplace=True)', try using 'df.method({col: value}, inplace=True)' or df[col] = df[col].method(value) instead, to perform the operation inplace on the original object.\n",
      "\n",
      "\n",
      "\n"
     ]
    }
   ],
   "source": [
    "# Option 1: Fill missing values in 'Production' with the mean\n",
    "data['Production'].fillna(data['Production'].mean(), inplace=True)\n",
    "\n",
    "# Option 2: Drop rows with missing values in 'Production'\n",
    "data.dropna(subset=['Production'], inplace=True)\n"
   ]
  },
  {
   "cell_type": "code",
   "execution_count": 18,
   "metadata": {},
   "outputs": [
    {
     "data": {
      "image/png": "[encoded data removed]",
      "text/plain": [
       "<Figure size 1000x600 with 1 Axes>"
      ]
     },
     "metadata": {},
     "output_type": "display_data"
    }
   ],
   "source": [
    "\n",
    "\n",
    "# Group data by Crop_Year to see production trends over time\n",
    "production_by_year = data.groupby('Crop_Year')['Production'].sum().reset_index()\n",
    "\n",
    "# Plot\n",
    "plt.figure(figsize=(10, 6))\n",
    "plt.plot(production_by_year['Crop_Year'], production_by_year['Production'], marker='o')\n",
    "plt.title('Total Crop Production Over the Years')\n",
    "plt.xlabel('Year')\n",
    "plt.ylabel('Total Production')\n",
    "plt.grid()\n",
    "plt.show()\n"
   ]
  },
  {
   "cell_type": "code",
   "execution_count": 19,
   "metadata": {},
   "outputs": [
    {
     "data": {
      "text/plain": [
       "<Figure size 1200x800 with 0 Axes>"
      ]
     },
     "metadata": {},
     "output_type": "display_data"
    },
    {
     "data": {
      "image/png": "[encoded data removed]",
      "text/plain": [
       "<Figure size 640x480 with 1 Axes>"
      ]
     },
     "metadata": {},
     "output_type": "display_data"
    }
   ],
   "source": [
    "\n",
    "# Aggregating data by Crop and Season for total production\n",
    "production_by_crop_season = data.groupby(['Crop', 'Season'])['Production'].sum().unstack()\n",
    "\n",
    "# Plot\n",
    "plt.figure(figsize=(12, 8))\n",
    "production_by_crop_season.plot(kind='bar', stacked=True)\n",
    "plt.title('Production by Crop and Season')\n",
    "plt.xlabel('Crop')\n",
    "plt.ylabel('Total Production')\n",
    "plt.xticks(rotation=90)\n",
    "plt.legend(title='Season')\n",
    "plt.show()\n"
   ]
  },
  {
   "cell_type": "code",
   "execution_count": 20,
   "metadata": {},
   "outputs": [
    {
     "data": {
      "application/vnd.plotly.v1+json": {
       "config": {
        "plotlyServerURL": "https://plot.ly"
       },
       "data": [
        {
         "alignmentgroup": "True",
         "hovertemplate": "Crop=Arecanut<br>State_Name=%{x}<br>Production=%{y}<extra></extra>",
         "legendgroup": "Arecanut",
         "marker": {
          "color": "#636efa",
          "pattern": {
           "shape": ""
          }
         },
         "name": "Arecanut",
         "offsetgroup": "Arecanut",
         "orientation": "v",
         "showlegend": true,
         "textposition": "auto",
         "type": "bar",
         "x": [
          "Andaman and Nicobar Islands",
          "Andhra Pradesh",
          "Assam",
          "Goa",
          "Karnataka",
          "Kerala",
          "Meghalaya",
          "Puducherry",
          "Tamil Nadu",
          "West Bengal"
         ],
         "xaxis": "x",
         "y": [
          630539.2522509807,
          586287.4422509808,
          1010523,
          5790,
          16740994,
          1893641.85,
          277737,
          1050,
          21056419.92103531,
          861243.4422509808
         ],
         "yaxis": "y"
        },
        {
         "alignmentgroup": "True",
         "hovertemplate": "Crop=Arhar/Tur<br>State_Name=%{x}<br>Production=%{y}<extra></extra>",
         "legendgroup": "Arhar/Tur",
         "marker": {
          "color": "#EF553B",
          "pattern": {
           "shape": ""
          }
         },
         "name": "Arhar/Tur",
         "offsetgroup": "Arhar/Tur",
         "orientation": "v",
         "showlegend": true,
         "textposition": "auto",
         "type": "bar",
         "x": [
          "Andaman and Nicobar Islands",
          "Andhra Pradesh",
          "Assam",
          "Bihar",
          "Chandigarh",
          "Chhattisgarh",
          "Dadra and Nagar Haveli",
          "Gujarat",
          "Haryana",
          "Himachal Pradesh",
          "Jammu and Kashmir ",
          "Jharkhand",
          "Karnataka",
          "Kerala",
          "Madhya Pradesh",
          "Maharashtra",
          "Manipur",
          "Meghalaya",
          "Mizoram",
          "Nagaland",
          "Odisha",
          "Punjab",
          "Rajasthan",
          "Tamil Nadu",
          "Telangana ",
          "Tripura",
          "Uttar Pradesh",
          "Uttarakhand",
          "West Bengal"
         ],
         "xaxis": "x",
         "y": [
          104,
          1549955,
          87741,
          817139,
          582591.4422509808,
          1559928.8845019615,
          20068,
          4587803.442250981,
          31793248.88155296,
          2913108.211254904,
          12.1,
          179899.13,
          6038696,
          5224,
          4185915,
          13452590.44225098,
          20,
          13502,
          1260,
          63677,
          479496,
          172500,
          18856905.152031384,
          1790207.9845019616,
          2941498.8845019615,
          13326,
          5415396,
          604941.4422509808,
          619986.4422509808
         ],
         "yaxis": "y"
        },
        {
         "alignmentgroup": "True",
         "hovertemplate": "Crop=Banana<br>State_Name=%{x}<br>Production=%{y}<extra></extra>",
         "legendgroup": "Banana",
         "marker": {
          "color": "#00cc96",
          "pattern": {
           "shape": ""
          }
         },
         "name": "Banana",
         "offsetgroup": "Banana",
         "orientation": "v",
         "showlegend": true,
         "textposition": "auto",
         "type": "bar",
         "x": [
          "Andaman and Nicobar Islands",
          "Andhra Pradesh",
          "Assam",
          "Bihar",
          "Chhattisgarh",
          "Dadra and Nagar Haveli",
          "Goa",
          "Gujarat",
          "Haryana",
          "Karnataka",
          "Kerala",
          "Madhya Pradesh",
          "Maharashtra",
          "Manipur",
          "Meghalaya",
          "Puducherry",
          "Rajasthan",
          "Tamil Nadu",
          "Telangana ",
          "Uttar Pradesh"
         ],
         "xaxis": "x",
         "y": [
          97424.65,
          15041631,
          11724386,
          2884412,
          3206673.211254904,
          4808,
          53190,
          25402100,
          0,
          10986598,
          7655661.99,
          21550640.4985255,
          3634720,
          509781,
          1171262,
          138800,
          22135130.80553727,
          59881093.884501964,
          3515136.211254904,
          809492
         ],
         "yaxis": "y"
        },
        {
         "alignmentgroup": "True",
         "hovertemplate": "Crop=Black pepper<br>State_Name=%{x}<br>Production=%{y}<extra></extra>",
         "legendgroup": "Black pepper",
         "marker": {
          "color": "#ab63fa",
          "pattern": {
           "shape": ""
          }
         },
         "name": "Black pepper",
         "offsetgroup": "Black pepper",
         "orientation": "v",
         "showlegend": true,
         "textposition": "auto",
         "type": "bar",
         "x": [
          "Andaman and Nicobar Islands",
          "Assam",
          "Goa",
          "Karnataka",
          "Kerala",
          "Meghalaya",
          "Puducherry",
          "Tamil Nadu"
         ],
         "xaxis": "x",
         "y": [
          724.5,
          41063,
          1090,
          756941.8,
          971530.11,
          4510,
          103,
          17483375.267529424
         ],
         "yaxis": "y"
        },
        {
         "alignmentgroup": "True",
         "hovertemplate": "Crop=Cashewnut<br>State_Name=%{x}<br>Production=%{y}<extra></extra>",
         "legendgroup": "Cashewnut",
         "marker": {
          "color": "#FFA15A",
          "pattern": {
           "shape": ""
          }
         },
         "name": "Cashewnut",
         "offsetgroup": "Cashewnut",
         "orientation": "v",
         "showlegend": true,
         "textposition": "auto",
         "type": "bar",
         "x": [
          "Andaman and Nicobar Islands",
          "Andhra Pradesh",
          "Goa",
          "Karnataka",
          "Kerala",
          "Madhya Pradesh",
          "Manipur",
          "Meghalaya",
          "Puducherry",
          "Tamil Nadu",
          "Telangana "
         ],
         "xaxis": "x",
         "y": [
          1684.79,
          519165,
          148291,
          339015.22,
          948395.22,
          0,
          223,
          97476,
          1534,
          6325857.422509808,
          1782082.3267529423
         ],
         "yaxis": "y"
        },
        {
         "alignmentgroup": "True",
         "hovertemplate": "Crop=Coconut <br>State_Name=%{x}<br>Production=%{y}<extra></extra>",
         "legendgroup": "Coconut ",
         "marker": {
          "color": "#19d3f3",
          "pattern": {
           "shape": ""
          }
         },
         "name": "Coconut ",
         "offsetgroup": "Coconut ",
         "orientation": "v",
         "showlegend": true,
         "textposition": "auto",
         "type": "bar",
         "x": [
          "Andaman and Nicobar Islands",
          "Andhra Pradesh",
          "Assam",
          "Chhattisgarh",
          "Dadra and Nagar Haveli",
          "Goa",
          "Karnataka",
          "Kerala",
          "Mizoram",
          "Puducherry",
          "Tamil Nadu",
          "Telangana ",
          "West Bengal"
         ],
         "xaxis": "x",
         "y": [
          717790000,
          16806002260,
          1954408105,
          13980082.614023538,
          117288,
          503112559,
          56767101.29,
          97803036000,
          40,
          379139000,
          10939490165.326754,
          105672992,
          717841216
         ],
         "yaxis": "y"
        },
        {
         "alignmentgroup": "True",
         "hovertemplate": "Crop=Dry chillies<br>State_Name=%{x}<br>Production=%{y}<extra></extra>",
         "legendgroup": "Dry chillies",
         "marker": {
          "color": "#FF6692",
          "pattern": {
           "shape": ""
          }
         },
         "name": "Dry chillies",
         "offsetgroup": "Dry chillies",
         "orientation": "v",
         "showlegend": true,
         "textposition": "auto",
         "type": "bar",
         "x": [
          "Andaman and Nicobar Islands",
          "Andhra Pradesh",
          "Arunachal Pradesh",
          "Assam",
          "Bihar",
          "Chhattisgarh",
          "Gujarat",
          "Haryana",
          "Himachal Pradesh",
          "Jammu and Kashmir ",
          "Karnataka",
          "Kerala",
          "Madhya Pradesh",
          "Manipur",
          "Meghalaya",
          "Nagaland",
          "Odisha",
          "Puducherry",
          "Rajasthan",
          "Tamil Nadu",
          "Telangana ",
          "Uttar Pradesh",
          "Uttarakhand",
          "West Bengal"
         ],
         "xaxis": "x",
         "y": [
          586521.7422509808,
          7721555,
          59559,
          202062,
          40508,
          1222828.8845019615,
          3652220.6535058846,
          26865758.343545116,
          4079312.095756865,
          3045.9,
          2181071,
          598,
          804394.01,
          52822,
          21653,
          4020,
          395380,
          367,
          2114391.326752942,
          2231581.326752942,
          4165163,
          144325,
          2000,
          771351
         ],
         "yaxis": "y"
        },
        {
         "alignmentgroup": "True",
         "hovertemplate": "Crop=Dry ginger<br>State_Name=%{x}<br>Production=%{y}<extra></extra>",
         "legendgroup": "Dry ginger",
         "marker": {
          "color": "#B6E880",
          "pattern": {
           "shape": ""
          }
         },
         "name": "Dry ginger",
         "offsetgroup": "Dry ginger",
         "orientation": "v",
         "showlegend": true,
         "textposition": "auto",
         "type": "bar",
         "x": [
          "Andaman and Nicobar Islands",
          "Andhra Pradesh",
          "Arunachal Pradesh",
          "Assam",
          "Bihar",
          "Chhattisgarh",
          "Haryana",
          "Himachal Pradesh",
          "Jammu and Kashmir ",
          "Karnataka",
          "Kerala",
          "Madhya Pradesh",
          "Manipur",
          "Meghalaya",
          "Nagaland",
          "Odisha",
          "Puducherry",
          "Rajasthan",
          "Tamil Nadu",
          "Telangana ",
          "Uttar Pradesh",
          "Uttarakhand",
          "West Bengal"
         ],
         "xaxis": "x",
         "y": [
          12675.6,
          34838,
          739471,
          431432,
          10142,
          2358161.769003923,
          4077724.095756865,
          706367.4422509808,
          209.70000000000002,
          6076419.9,
          601093.82,
          694878.5422509807,
          32580,
          877024,
          93320,
          164858,
          456,
          2336973.769003923,
          151871,
          117108,
          607114.4422509808,
          1945096.3267529423,
          209086
         ],
         "yaxis": "y"
        },
        {
         "alignmentgroup": "True",
         "hovertemplate": "Crop=Groundnut<br>State_Name=%{x}<br>Production=%{y}<extra></extra>",
         "legendgroup": "Groundnut",
         "marker": {
          "color": "#FF97FF",
          "pattern": {
           "shape": ""
          }
         },
         "name": "Groundnut",
         "offsetgroup": "Groundnut",
         "orientation": "v",
         "showlegend": true,
         "textposition": "auto",
         "type": "bar",
         "x": [
          "Andaman and Nicobar Islands",
          "Andhra Pradesh",
          "Arunachal Pradesh",
          "Bihar",
          "Chhattisgarh",
          "Dadra and Nagar Haveli",
          "Goa",
          "Gujarat",
          "Haryana",
          "Himachal Pradesh",
          "Jammu and Kashmir ",
          "Karnataka",
          "Kerala",
          "Madhya Pradesh",
          "Maharashtra",
          "Mizoram",
          "Nagaland",
          "Odisha",
          "Puducherry",
          "Punjab",
          "Rajasthan",
          "Tamil Nadu",
          "Telangana ",
          "Tripura",
          "Uttar Pradesh",
          "Uttarakhand",
          "West Bengal"
         ],
         "xaxis": "x",
         "y": [
          14.399999999999999,
          18385361,
          1202,
          7544,
          2332584.326752942,
          205,
          660918.4422509808,
          37774306.884501964,
          27982136.228047077,
          1004.3,
          60.6,
          10955920,
          1196185.8845019615,
          5981660.326752942,
          7357452.442250981,
          329,
          29780,
          1819891.9,
          23511,
          718203.4422509808,
          5963029.442250981,
          20098406.88450196,
          4650591,
          9315,
          1372333,
          22188,
          1680964
         ],
         "yaxis": "y"
        },
        {
         "alignmentgroup": "True",
         "hovertemplate": "Crop=Maize<br>State_Name=%{x}<br>Production=%{y}<extra></extra>",
         "legendgroup": "Maize",
         "marker": {
          "color": "#FECB52",
          "pattern": {
           "shape": ""
          }
         },
         "name": "Maize",
         "offsetgroup": "Maize",
         "orientation": "v",
         "showlegend": true,
         "textposition": "auto",
         "type": "bar",
         "x": [
          "Andaman and Nicobar Islands",
          "Andhra Pradesh",
          "Arunachal Pradesh",
          "Assam",
          "Bihar",
          "Chandigarh",
          "Chhattisgarh",
          "Dadra and Nagar Haveli",
          "Gujarat",
          "Haryana",
          "Himachal Pradesh",
          "Jammu and Kashmir ",
          "Jharkhand",
          "Karnataka",
          "Kerala",
          "Madhya Pradesh",
          "Maharashtra",
          "Manipur",
          "Meghalaya",
          "Mizoram",
          "Nagaland",
          "Odisha",
          "Punjab",
          "Rajasthan",
          "Sikkim",
          "Tamil Nadu",
          "Telangana ",
          "Tripura",
          "Uttar Pradesh",
          "Uttarakhand",
          "West Bengal"
         ],
         "xaxis": "x",
         "y": [
          367.62,
          18527379,
          1058829,
          389382,
          32232829,
          4225,
          3516298.8845019615,
          1100,
          10713103.44225098,
          69874109.62786672,
          7813360,
          4753864,
          631550.15,
          48308900,
          582658.4422509808,
          22546783,
          22600853.326752942,
          91133,
          498875,
          196048,
          1673600,
          3832449.6845019613,
          8052000,
          19133051,
          1323547,
          27511752.38302746,
          30559315,
          50540,
          24124661.326752942,
          1189975.4422509808,
          4749814
         ],
         "yaxis": "y"
        },
        {
         "alignmentgroup": "True",
         "hovertemplate": "Crop=Moong(Green Gram)<br>State_Name=%{x}<br>Production=%{y}<extra></extra>",
         "legendgroup": "Moong(Green Gram)",
         "marker": {
          "color": "#636efa",
          "pattern": {
           "shape": ""
          }
         },
         "name": "Moong(Green Gram)",
         "offsetgroup": "Moong(Green Gram)",
         "orientation": "v",
         "showlegend": true,
         "textposition": "auto",
         "type": "bar",
         "x": [
          "Andaman and Nicobar Islands",
          "Andhra Pradesh",
          "Assam",
          "Bihar",
          "Chandigarh",
          "Chhattisgarh",
          "Gujarat",
          "Haryana",
          "Himachal Pradesh",
          "Jammu and Kashmir ",
          "Karnataka",
          "Kerala",
          "Madhya Pradesh",
          "Maharashtra",
          "Mizoram",
          "Nagaland",
          "Odisha",
          "Puducherry",
          "Punjab",
          "Rajasthan",
          "Tamil Nadu",
          "Telangana ",
          "Tripura",
          "Uttar Pradesh",
          "Uttarakhand",
          "West Bengal"
         ],
         "xaxis": "x",
         "y": [
          575.5,
          3660397.769003923,
          62473,
          3245616.426752942,
          7,
          9382001.076015692,
          1823403.4422509808,
          50766166.47583532,
          1748834.3267529423,
          588277.2422509807,
          3084781.326752942,
          14562586.056274518,
          12463121.287270596,
          8872502.538007846,
          397.9,
          598043.4422509808,
          5423363.695756866,
          591250.4422509808,
          326600,
          5361386.769003923,
          2854793.426752942,
          2791236.8845019615,
          5563,
          9324462.433764711,
          2932811.211254904,
          1323264.8845019615
         ],
         "yaxis": "y"
        },
        {
         "alignmentgroup": "True",
         "hovertemplate": "Crop=Other Kharif pulses<br>State_Name=%{x}<br>Production=%{y}<extra></extra>",
         "legendgroup": "Other Kharif pulses",
         "marker": {
          "color": "#EF553B",
          "pattern": {
           "shape": ""
          }
         },
         "name": "Other Kharif pulses",
         "offsetgroup": "Other Kharif pulses",
         "orientation": "v",
         "showlegend": true,
         "textposition": "auto",
         "type": "bar",
         "x": [
          "Andaman and Nicobar Islands",
          "Andhra Pradesh",
          "Bihar",
          "Chhattisgarh",
          "Dadra and Nagar Haveli",
          "Goa",
          "Gujarat",
          "Haryana",
          "Himachal Pradesh",
          "Jammu and Kashmir ",
          "Karnataka",
          "Madhya Pradesh",
          "Maharashtra",
          "Manipur",
          "Mizoram",
          "Nagaland",
          "Odisha",
          "Puducherry",
          "Rajasthan",
          "Sikkim",
          "Tamil Nadu",
          "Telangana ",
          "Tripura",
          "Uttar Pradesh",
          "Uttarakhand",
          "West Bengal"
         ],
         "xaxis": "x",
         "y": [
          649,
          3537739.6535058846,
          1814000.3267529423,
          9929322.518266672,
          11739,
          1485,
          3111117.211254904,
          6468737.864760788,
          20185,
          7533.2,
          1559479.6222509807,
          25414255.574541193,
          4182480.6535058846,
          10316,
          26841,
          46740,
          50621,
          117,
          9228394.633764712,
          49095,
          702870.4422509808,
          1178724.8845019615,
          17732,
          330090,
          716024.4422509808,
          8948
         ],
         "yaxis": "y"
        },
        {
         "alignmentgroup": "True",
         "hovertemplate": "Crop=Rice<br>State_Name=%{x}<br>Production=%{y}<extra></extra>",
         "legendgroup": "Rice",
         "marker": {
          "color": "#00cc96",
          "pattern": {
           "shape": ""
          }
         },
         "name": "Rice",
         "offsetgroup": "Rice",
         "orientation": "v",
         "showlegend": true,
         "textposition": "auto",
         "type": "bar",
         "x": [
          "Andaman and Nicobar Islands",
          "Andhra Pradesh",
          "Arunachal Pradesh",
          "Assam",
          "Bihar",
          "Chandigarh",
          "Chhattisgarh",
          "Dadra and Nagar Haveli",
          "Goa",
          "Gujarat",
          "Haryana",
          "Himachal Pradesh",
          "Jammu and Kashmir ",
          "Jharkhand",
          "Karnataka",
          "Kerala",
          "Madhya Pradesh",
          "Maharashtra",
          "Manipur",
          "Meghalaya",
          "Mizoram",
          "Nagaland",
          "Odisha",
          "Puducherry",
          "Punjab",
          "Rajasthan",
          "Sikkim",
          "Tamil Nadu",
          "Telangana ",
          "Tripura",
          "Uttar Pradesh",
          "Uttarakhand",
          "West Bengal"
         ],
         "xaxis": "x",
         "y": [
          223006.06,
          143742455,
          2709476.6,
          71801090,
          92605425.44225098,
          3853,
          82663624.88450196,
          454865,
          1432244,
          19084200,
          52230817.2112549,
          1419350,
          4116594.4,
          7527411.94,
          65837072.79,
          11175851.02225098,
          28787685.88450196,
          44173634.884501964,
          3850798,
          3531474,
          1138604,
          5852293.442250981,
          122335259.21125491,
          985958,
          179702000,
          2684728,
          383136,
          101287672.88450196,
          69195676,
          10685011,
          218793359,
          9777982.44225098,
          258092849
         ],
         "yaxis": "y"
        },
        {
         "alignmentgroup": "True",
         "hovertemplate": "Crop=Sugarcane<br>State_Name=%{x}<br>Production=%{y}<extra></extra>",
         "legendgroup": "Sugarcane",
         "marker": {
          "color": "#ab63fa",
          "pattern": {
           "shape": ""
          }
         },
         "name": "Sugarcane",
         "offsetgroup": "Sugarcane",
         "orientation": "v",
         "showlegend": true,
         "textposition": "auto",
         "type": "bar",
         "x": [
          "Andaman and Nicobar Islands",
          "Andhra Pradesh",
          "Arunachal Pradesh",
          "Assam",
          "Bihar",
          "Chhattisgarh",
          "Dadra and Nagar Haveli",
          "Goa",
          "Gujarat",
          "Haryana",
          "Himachal Pradesh",
          "Jammu and Kashmir ",
          "Jharkhand",
          "Karnataka",
          "Kerala",
          "Madhya Pradesh",
          "Maharashtra",
          "Manipur",
          "Meghalaya",
          "Mizoram",
          "Nagaland",
          "Odisha",
          "Puducherry",
          "Punjab",
          "Rajasthan",
          "Tamil Nadu",
          "Telangana ",
          "Tripura",
          "Uttar Pradesh",
          "Uttarakhand",
          "West Bengal"
         ],
         "xaxis": "x",
         "y": [
          30638.670000000002,
          226730305,
          384639,
          18845994,
          106227183,
          6577480.095756865,
          1115995,
          570984,
          212022800,
          140058561.7857961,
          273233.1,
          4968.7,
          82173.01,
          515845482,
          24790039.76103531,
          34453313.44225098,
          938485965,
          134912,
          4286,
          743734.4422509808,
          2216170,
          18114891.6,
          4151379,
          88780000,
          7828877,
          848661822.8845019,
          63164528,
          820546,
          2202874890,
          98902736,
          27538321
         ],
         "yaxis": "y"
        },
        {
         "alignmentgroup": "True",
         "hovertemplate": "Crop=Sunflower<br>State_Name=%{x}<br>Production=%{y}<extra></extra>",
         "legendgroup": "Sunflower",
         "marker": {
          "color": "#FFA15A",
          "pattern": {
           "shape": ""
          }
         },
         "name": "Sunflower",
         "offsetgroup": "Sunflower",
         "orientation": "v",
         "showlegend": true,
         "textposition": "auto",
         "type": "bar",
         "x": [
          "Andaman and Nicobar Islands",
          "Andhra Pradesh",
          "Arunachal Pradesh",
          "Bihar",
          "Chandigarh",
          "Chhattisgarh",
          "Dadra and Nagar Haveli",
          "Haryana",
          "Karnataka",
          "Madhya Pradesh",
          "Maharashtra",
          "Mizoram",
          "Nagaland",
          "Odisha",
          "Puducherry",
          "Punjab",
          "Rajasthan",
          "Tamil Nadu",
          "Telangana ",
          "Uttar Pradesh",
          "Uttarakhand",
          "West Bengal"
         ],
         "xaxis": "x",
         "y": [
          2.4,
          3831292.442250981,
          425,
          397208,
          28,
          11671975.845019616,
          6,
          7155441.307011769,
          6128242.542250981,
          12829227.879521577,
          10265482.19151373,
          31,
          35130,
          30965,
          7,
          57700,
          7573517.74926275,
          1540444.8845019615,
          1427530.4422509808,
          270548,
          1166386.8845019615,
          141790
         ],
         "yaxis": "y"
        },
        {
         "alignmentgroup": "True",
         "hovertemplate": "Crop=Sweet potato<br>State_Name=%{x}<br>Production=%{y}<extra></extra>",
         "legendgroup": "Sweet potato",
         "marker": {
          "color": "#19d3f3",
          "pattern": {
           "shape": ""
          }
         },
         "name": "Sweet potato",
         "offsetgroup": "Sweet potato",
         "orientation": "v",
         "showlegend": true,
         "textposition": "auto",
         "type": "bar",
         "x": [
          "Andaman and Nicobar Islands",
          "Andhra Pradesh",
          "Assam",
          "Bihar",
          "Chhattisgarh",
          "Haryana",
          "Himachal Pradesh",
          "Karnataka",
          "Kerala",
          "Madhya Pradesh",
          "Manipur",
          "Meghalaya",
          "Nagaland",
          "Odisha",
          "Puducherry",
          "Rajasthan",
          "Tamil Nadu",
          "Telangana ",
          "Uttar Pradesh"
         ],
         "xaxis": "x",
         "y": [
          3065.35,
          741169.4422509808,
          501309,
          765438,
          2558850.769003923,
          10501961.960517654,
          1165006.8845019615,
          451284,
          119231,
          317324,
          4000,
          287042,
          46990,
          2118227,
          582657.4422509808,
          28588202.67029806,
          797712.4422509808,
          12512,
          2556292
         ],
         "yaxis": "y"
        },
        {
         "alignmentgroup": "True",
         "hovertemplate": "Crop=Tapioca<br>State_Name=%{x}<br>Production=%{y}<extra></extra>",
         "legendgroup": "Tapioca",
         "marker": {
          "color": "#FF6692",
          "pattern": {
           "shape": ""
          }
         },
         "name": "Tapioca",
         "offsetgroup": "Tapioca",
         "orientation": "v",
         "showlegend": true,
         "textposition": "auto",
         "type": "bar",
         "x": [
          "Andaman and Nicobar Islands",
          "Andhra Pradesh",
          "Assam",
          "Karnataka",
          "Kerala",
          "Manipur",
          "Meghalaya",
          "Mizoram",
          "Nagaland",
          "Puducherry",
          "Rajasthan",
          "Tamil Nadu",
          "Telangana "
         ],
         "xaxis": "x",
         "y": [
          7937,
          1971485,
          297797,
          119219,
          46113659.3,
          2858,
          391255,
          16481,
          282500,
          154583,
          264,
          56813655.884501964,
          518
         ],
         "yaxis": "y"
        },
        {
         "alignmentgroup": "True",
         "hovertemplate": "Crop=Turmeric<br>State_Name=%{x}<br>Production=%{y}<extra></extra>",
         "legendgroup": "Turmeric",
         "marker": {
          "color": "#B6E880",
          "pattern": {
           "shape": ""
          }
         },
         "name": "Turmeric",
         "offsetgroup": "Turmeric",
         "orientation": "v",
         "showlegend": true,
         "textposition": "auto",
         "type": "bar",
         "x": [
          "Andaman and Nicobar Islands",
          "Andhra Pradesh",
          "Arunachal Pradesh",
          "Assam",
          "Bihar",
          "Chhattisgarh",
          "Haryana",
          "Himachal Pradesh",
          "Jammu and Kashmir ",
          "Karnataka",
          "Kerala",
          "Madhya Pradesh",
          "Manipur",
          "Meghalaya",
          "Nagaland",
          "Odisha",
          "Puducherry",
          "Rajasthan",
          "Tamil Nadu",
          "Telangana ",
          "Uttar Pradesh",
          "Uttarakhand",
          "West Bengal"
         ],
         "xaxis": "x",
         "y": [
          1593.03,
          1568134,
          620108.4422509808,
          180527,
          34168,
          4089812.095756865,
          8738516.633764712,
          583149.4422509808,
          61.5,
          995598,
          124363.93,
          388487.02,
          1884,
          164976,
          4050,
          327938,
          582550.4422509808,
          2917260.211254904,
          3243665.8845019615,
          3656290,
          56666,
          1186607.8845019615,
          304953
         ],
         "yaxis": "y"
        },
        {
         "alignmentgroup": "True",
         "hovertemplate": "Crop=Urad<br>State_Name=%{x}<br>Production=%{y}<extra></extra>",
         "legendgroup": "Urad",
         "marker": {
          "color": "#FF97FF",
          "pattern": {
           "shape": ""
          }
         },
         "name": "Urad",
         "offsetgroup": "Urad",
         "orientation": "v",
         "showlegend": true,
         "textposition": "auto",
         "type": "bar",
         "x": [
          "Andaman and Nicobar Islands",
          "Andhra Pradesh",
          "Assam",
          "Bihar",
          "Chandigarh",
          "Chhattisgarh",
          "Dadra and Nagar Haveli",
          "Gujarat",
          "Haryana",
          "Himachal Pradesh",
          "Jammu and Kashmir ",
          "Karnataka",
          "Madhya Pradesh",
          "Maharashtra",
          "Mizoram",
          "Nagaland",
          "Odisha",
          "Puducherry",
          "Punjab",
          "Rajasthan",
          "Sikkim",
          "Tamil Nadu",
          "Telangana ",
          "Tripura",
          "Uttar Pradesh",
          "Uttarakhand",
          "West Bengal"
         ],
         "xaxis": "x",
         "y": [
          475.00000000000006,
          5761829.884501962,
          338637,
          862233.4422509808,
          51,
          5729552.980258827,
          8977,
          2108206.8845019615,
          33796517.650556885,
          49390,
          40753.3,
          1184659.6422509807,
          17495815.4985255,
          4996803.884501962,
          219.66,
          2470,
          6052617.080258827,
          12012,
          4132734.095756865,
          7125503.864760788,
          50114,
          3466024.8845019615,
          2383211.326752942,
          10455,
          3991338.842250981,
          3021535.211254904,
          1338833.4422509808
         ],
         "yaxis": "y"
        },
        {
         "alignmentgroup": "True",
         "hovertemplate": "Crop=other oilseeds<br>State_Name=%{x}<br>Production=%{y}<extra></extra>",
         "legendgroup": "other oilseeds",
         "marker": {
          "color": "#FECB52",
          "pattern": {
           "shape": ""
          }
         },
         "name": "other oilseeds",
         "offsetgroup": "other oilseeds",
         "orientation": "v",
         "showlegend": true,
         "textposition": "auto",
         "type": "bar",
         "x": [
          "Andaman and Nicobar Islands",
          "Andhra Pradesh",
          "Gujarat",
          "Haryana",
          "Jammu and Kashmir ",
          "Kerala",
          "Maharashtra",
          "Mizoram",
          "Rajasthan",
          "Sikkim",
          "Telangana ",
          "Tripura",
          "Uttarakhand"
         ],
         "xaxis": "x",
         "y": [
          248.31,
          10002902.864760788,
          1240006.8845019615,
          2330013.769003923,
          582916.9422509808,
          0,
          2920717.211254904,
          17738,
          879082,
          174,
          4260275.095756865,
          3520,
          5249947.980258827
         ],
         "yaxis": "y"
        },
        {
         "alignmentgroup": "True",
         "hovertemplate": "Crop=Bajra<br>State_Name=%{x}<br>Production=%{y}<extra></extra>",
         "legendgroup": "Bajra",
         "marker": {
          "color": "#636efa",
          "pattern": {
           "shape": ""
          }
         },
         "name": "Bajra",
         "offsetgroup": "Bajra",
         "orientation": "v",
         "showlegend": true,
         "textposition": "auto",
         "type": "bar",
         "x": [
          "Andhra Pradesh",
          "Bihar",
          "Chhattisgarh",
          "Gujarat",
          "Haryana",
          "Himachal Pradesh",
          "Jammu and Kashmir ",
          "Karnataka",
          "Madhya Pradesh",
          "Maharashtra",
          "Nagaland",
          "Odisha",
          "Puducherry",
          "Punjab",
          "Rajasthan",
          "Tamil Nadu",
          "Telangana ",
          "Uttar Pradesh",
          "Uttarakhand",
          "West Bengal"
         ],
         "xaxis": "x",
         "y": [
          1848212.4422509808,
          633692.4422509808,
          1748243.3267529423,
          18724400,
          28647189.4985255,
          1293,
          75315.7,
          4899585.442250981,
          9104456.838007847,
          17194475.88450196,
          24230,
          12119,
          3040,
          75800,
          45919865.326752946,
          3465098.8845019615,
          840767.4422509808,
          24421607,
          157,
          1612
         ],
         "yaxis": "y"
        },
        {
         "alignmentgroup": "True",
         "hovertemplate": "Crop=Beans & Mutter(Vegetable)<br>State_Name=%{x}<br>Production=%{y}<extra></extra>",
         "legendgroup": "Beans & Mutter(Vegetable)",
         "marker": {
          "color": "#EF553B",
          "pattern": {
           "shape": ""
          }
         },
         "name": "Beans & Mutter(Vegetable)",
         "offsetgroup": "Beans & Mutter(Vegetable)",
         "orientation": "v",
         "showlegend": true,
         "textposition": "auto",
         "type": "bar",
         "x": [
          "Andhra Pradesh",
          "Jammu and Kashmir ",
          "Karnataka",
          "Madhya Pradesh",
          "Manipur",
          "Tamil Nadu",
          "Telangana "
         ],
         "xaxis": "x",
         "y": [
          70041,
          876,
          98563,
          0,
          17643,
          0,
          24236
         ],
         "yaxis": "y"
        },
        {
         "alignmentgroup": "True",
         "hovertemplate": "Crop=Bhindi<br>State_Name=%{x}<br>Production=%{y}<extra></extra>",
         "legendgroup": "Bhindi",
         "marker": {
          "color": "#00cc96",
          "pattern": {
           "shape": ""
          }
         },
         "name": "Bhindi",
         "offsetgroup": "Bhindi",
         "orientation": "v",
         "showlegend": true,
         "textposition": "auto",
         "type": "bar",
         "x": [
          "Andhra Pradesh",
          "Kerala",
          "Madhya Pradesh",
          "Manipur",
          "Tamil Nadu",
          "Telangana "
         ],
         "xaxis": "x",
         "y": [
          199605,
          13,
          0,
          5180,
          77769,
          34510
         ],
         "yaxis": "y"
        },
        {
         "alignmentgroup": "True",
         "hovertemplate": "Crop=Bottle Gourd<br>State_Name=%{x}<br>Production=%{y}<extra></extra>",
         "legendgroup": "Bottle Gourd",
         "marker": {
          "color": "#ab63fa",
          "pattern": {
           "shape": ""
          }
         },
         "name": "Bottle Gourd",
         "offsetgroup": "Bottle Gourd",
         "orientation": "v",
         "showlegend": true,
         "textposition": "auto",
         "type": "bar",
         "x": [
          "Andhra Pradesh",
          "Manipur",
          "Tamil Nadu",
          "Telangana "
         ],
         "xaxis": "x",
         "y": [
          0,
          598,
          0,
          0
         ],
         "yaxis": "y"
        },
        {
         "alignmentgroup": "True",
         "hovertemplate": "Crop=Brinjal<br>State_Name=%{x}<br>Production=%{y}<extra></extra>",
         "legendgroup": "Brinjal",
         "marker": {
          "color": "#FFA15A",
          "pattern": {
           "shape": ""
          }
         },
         "name": "Brinjal",
         "offsetgroup": "Brinjal",
         "orientation": "v",
         "showlegend": true,
         "textposition": "auto",
         "type": "bar",
         "x": [
          "Andhra Pradesh",
          "Karnataka",
          "Kerala",
          "Madhya Pradesh",
          "Manipur",
          "Puducherry",
          "Tamil Nadu",
          "Telangana "
         ],
         "xaxis": "x",
         "y": [
          1015080,
          160512,
          0,
          19,
          3030,
          7684,
          160400,
          95447
         ],
         "yaxis": "y"
        },
        {
         "alignmentgroup": "True",
         "hovertemplate": "Crop=Cabbage<br>State_Name=%{x}<br>Production=%{y}<extra></extra>",
         "legendgroup": "Cabbage",
         "marker": {
          "color": "#19d3f3",
          "pattern": {
           "shape": ""
          }
         },
         "name": "Cabbage",
         "offsetgroup": "Cabbage",
         "orientation": "v",
         "showlegend": true,
         "textposition": "auto",
         "type": "bar",
         "x": [
          "Andhra Pradesh",
          "Madhya Pradesh",
          "Manipur",
          "Tamil Nadu",
          "Telangana "
         ],
         "xaxis": "x",
         "y": [
          654622.4422509808,
          0,
          37958,
          201342,
          0
         ],
         "yaxis": "y"
        },
        {
         "alignmentgroup": "True",
         "hovertemplate": "Crop=Castor seed<br>State_Name=%{x}<br>Production=%{y}<extra></extra>",
         "legendgroup": "Castor seed",
         "marker": {
          "color": "#FF6692",
          "pattern": {
           "shape": ""
          }
         },
         "name": "Castor seed",
         "offsetgroup": "Castor seed",
         "orientation": "v",
         "showlegend": true,
         "textposition": "auto",
         "type": "bar",
         "x": [
          "Andhra Pradesh",
          "Assam",
          "Bihar",
          "Chhattisgarh",
          "Gujarat",
          "Haryana",
          "Karnataka",
          "Madhya Pradesh",
          "Maharashtra",
          "Meghalaya",
          "Nagaland",
          "Odisha",
          "Rajasthan",
          "Tamil Nadu",
          "Telangana ",
          "Uttar Pradesh",
          "West Bengal"
         ],
         "xaxis": "x",
         "y": [
          2142703.326752942,
          9727,
          3137,
          7573003.74926275,
          12423900,
          5252636.980258827,
          289492,
          11662490.065019615,
          6459661.564760788,
          370,
          2810,
          1801070.3267529423,
          16524734.4985255,
          11724908.375019616,
          1243343,
          582607.6422509807,
          828
         ],
         "yaxis": "y"
        },
        {
         "alignmentgroup": "True",
         "hovertemplate": "Crop=Citrus Fruit<br>State_Name=%{x}<br>Production=%{y}<extra></extra>",
         "legendgroup": "Citrus Fruit",
         "marker": {
          "color": "#B6E880",
          "pattern": {
           "shape": ""
          }
         },
         "name": "Citrus Fruit",
         "offsetgroup": "Citrus Fruit",
         "orientation": "v",
         "showlegend": true,
         "textposition": "auto",
         "type": "bar",
         "x": [
          "Andhra Pradesh",
          "Karnataka",
          "Madhya Pradesh",
          "Manipur",
          "Meghalaya",
          "Rajasthan",
          "Tamil Nadu",
          "Telangana "
         ],
         "xaxis": "x",
         "y": [
          456274,
          272754,
          0,
          11237,
          69642,
          0,
          16843,
          52817
         ],
         "yaxis": "y"
        },
        {
         "alignmentgroup": "True",
         "hovertemplate": "Crop=Coriander<br>State_Name=%{x}<br>Production=%{y}<extra></extra>",
         "legendgroup": "Coriander",
         "marker": {
          "color": "#FF97FF",
          "pattern": {
           "shape": ""
          }
         },
         "name": "Coriander",
         "offsetgroup": "Coriander",
         "orientation": "v",
         "showlegend": true,
         "textposition": "auto",
         "type": "bar",
         "x": [
          "Andhra Pradesh",
          "Bihar",
          "Chhattisgarh",
          "Dadra and Nagar Haveli",
          "Haryana",
          "Himachal Pradesh",
          "Jammu and Kashmir ",
          "Karnataka",
          "Madhya Pradesh",
          "Meghalaya",
          "Odisha",
          "Puducherry",
          "Rajasthan",
          "Tamil Nadu",
          "Telangana ",
          "Uttar Pradesh"
         ],
         "xaxis": "x",
         "y": [
          166376,
          14971,
          3509101.6535058846,
          4,
          12234579.287270596,
          1165501.8845019615,
          1.1,
          2945897.211254904,
          1364346.4622509808,
          306,
          49907,
          18,
          6032798.653505884,
          8245433.291513731,
          32973,
          613095.4422509808
         ],
         "yaxis": "y"
        },
        {
         "alignmentgroup": "True",
         "hovertemplate": "Crop=Cotton(lint)<br>State_Name=%{x}<br>Production=%{y}<extra></extra>",
         "legendgroup": "Cotton(lint)",
         "marker": {
          "color": "#FECB52",
          "pattern": {
           "shape": ""
          }
         },
         "name": "Cotton(lint)",
         "offsetgroup": "Cotton(lint)",
         "orientation": "v",
         "showlegend": true,
         "textposition": "auto",
         "type": "bar",
         "x": [
          "Andhra Pradesh",
          "Assam",
          "Bihar",
          "Chhattisgarh",
          "Gujarat",
          "Haryana",
          "Himachal Pradesh",
          "Jammu and Kashmir ",
          "Karnataka",
          "Kerala",
          "Madhya Pradesh",
          "Maharashtra",
          "Manipur",
          "Meghalaya",
          "Mizoram",
          "Nagaland",
          "Odisha",
          "Puducherry",
          "Punjab",
          "Rajasthan",
          "Tamil Nadu",
          "Telangana ",
          "Tripura",
          "Uttar Pradesh",
          "West Bengal"
         ],
         "xaxis": "x",
         "y": [
          17882076,
          1759851.3267529423,
          488,
          4079705.095756865,
          85777500,
          76519002.9180863,
          582661.4422509808,
          109.6,
          15319987,
          642485.4422509808,
          14769508.638007846,
          71786349,
          260,
          126771,
          8868,
          6830,
          126120,
          11890,
          29262000,
          11396411.422509808,
          5442084.884501962,
          31228434,
          23125,
          9350823.076015692,
          117142
         ],
         "yaxis": "y"
        },
        {
         "alignmentgroup": "True",
         "hovertemplate": "Crop=Cowpea(Lobia)<br>State_Name=%{x}<br>Production=%{y}<extra></extra>",
         "legendgroup": "Cowpea(Lobia)",
         "marker": {
          "color": "#636efa",
          "pattern": {
           "shape": ""
          }
         },
         "name": "Cowpea(Lobia)",
         "offsetgroup": "Cowpea(Lobia)",
         "orientation": "v",
         "showlegend": true,
         "textposition": "auto",
         "type": "bar",
         "x": [
          "Andhra Pradesh",
          "Karnataka",
          "Kerala",
          "Madhya Pradesh",
          "Meghalaya",
          "Nagaland",
          "Telangana "
         ],
         "xaxis": "x",
         "y": [
          35527,
          1917873.3267529423,
          19805117.036533345,
          2332123.769003923,
          4668,
          1420,
          609053.4422509808
         ],
         "yaxis": "y"
        },
        {
         "alignmentgroup": "True",
         "hovertemplate": "Crop=Cucumber<br>State_Name=%{x}<br>Production=%{y}<extra></extra>",
         "legendgroup": "Cucumber",
         "marker": {
          "color": "#EF553B",
          "pattern": {
           "shape": ""
          }
         },
         "name": "Cucumber",
         "offsetgroup": "Cucumber",
         "orientation": "v",
         "showlegend": true,
         "textposition": "auto",
         "type": "bar",
         "x": [
          "Andhra Pradesh",
          "Tamil Nadu",
          "Telangana "
         ],
         "xaxis": "x",
         "y": [
          0,
          0,
          0
         ],
         "yaxis": "y"
        },
        {
         "alignmentgroup": "True",
         "hovertemplate": "Crop=Garlic<br>State_Name=%{x}<br>Production=%{y}<extra></extra>",
         "legendgroup": "Garlic",
         "marker": {
          "color": "#00cc96",
          "pattern": {
           "shape": ""
          }
         },
         "name": "Garlic",
         "offsetgroup": "Garlic",
         "orientation": "v",
         "showlegend": true,
         "textposition": "auto",
         "type": "bar",
         "x": [
          "Andhra Pradesh",
          "Bihar",
          "Chhattisgarh",
          "Gujarat",
          "Haryana",
          "Himachal Pradesh",
          "Jammu and Kashmir ",
          "Karnataka",
          "Kerala",
          "Madhya Pradesh",
          "Meghalaya",
          "Odisha",
          "Rajasthan",
          "Tamil Nadu",
          "Telangana ",
          "Uttar Pradesh",
          "Uttarakhand",
          "West Bengal"
         ],
         "xaxis": "x",
         "y": [
          23,
          39513,
          622190.4422509808,
          2394300,
          17512503.267529424,
          17590,
          1776.8,
          86394,
          92255,
          2986350,
          1139,
          211908,
          8189138.307011769,
          50749,
          4663477.538007846,
          1574042,
          7591916.74926275,
          33728
         ],
         "yaxis": "y"
        },
        {
         "alignmentgroup": "True",
         "hovertemplate": "Crop=Ginger<br>State_Name=%{x}<br>Production=%{y}<extra></extra>",
         "legendgroup": "Ginger",
         "marker": {
          "color": "#ab63fa",
          "pattern": {
           "shape": ""
          }
         },
         "name": "Ginger",
         "offsetgroup": "Ginger",
         "orientation": "v",
         "showlegend": true,
         "textposition": "auto",
         "type": "bar",
         "x": [
          "Andhra Pradesh",
          "Assam",
          "Himachal Pradesh",
          "Jammu and Kashmir ",
          "Nagaland",
          "Telangana ",
          "Uttar Pradesh",
          "Uttarakhand"
         ],
         "xaxis": "x",
         "y": [
          3003,
          518074,
          15615,
          2.7,
          124390,
          49294,
          4354,
          107193
         ],
         "yaxis": "y"
        },
        {
         "alignmentgroup": "True",
         "hovertemplate": "Crop=Gram<br>State_Name=%{x}<br>Production=%{y}<extra></extra>",
         "legendgroup": "Gram",
         "marker": {
          "color": "#FFA15A",
          "pattern": {
           "shape": ""
          }
         },
         "name": "Gram",
         "offsetgroup": "Gram",
         "orientation": "v",
         "showlegend": true,
         "textposition": "auto",
         "type": "bar",
         "x": [
          "Andhra Pradesh",
          "Assam",
          "Bihar",
          "Chandigarh",
          "Chhattisgarh",
          "Dadra and Nagar Haveli",
          "Gujarat",
          "Haryana",
          "Himachal Pradesh",
          "Jammu and Kashmir ",
          "Jharkhand",
          "Karnataka",
          "Madhya Pradesh",
          "Maharashtra",
          "Meghalaya",
          "Mizoram",
          "Nagaland",
          "Odisha",
          "Punjab",
          "Rajasthan",
          "Tamil Nadu",
          "Telangana ",
          "Tripura",
          "Uttar Pradesh",
          "Uttarakhand",
          "West Bengal"
         ],
         "xaxis": "x",
         "y": [
          7502877,
          603828.4422509808,
          1255222,
          7,
          5875871.211254904,
          2397,
          3158006.8845019615,
          64065868.32085494,
          592617.4422509808,
          10681.1,
          77253.23,
          5961803,
          39030407,
          12630797,
          10179,
          43,
          10350,
          102881,
          232000,
          12672230,
          5898955.422509808,
          2187158.442250981,
          1323,
          12121307.884501962,
          2921059.211254904,
          544573
         ],
         "yaxis": "y"
        },
        {
         "alignmentgroup": "True",
         "hovertemplate": "Crop=Grapes<br>State_Name=%{x}<br>Production=%{y}<extra></extra>",
         "legendgroup": "Grapes",
         "marker": {
          "color": "#19d3f3",
          "pattern": {
           "shape": ""
          }
         },
         "name": "Grapes",
         "offsetgroup": "Grapes",
         "orientation": "v",
         "showlegend": true,
         "textposition": "auto",
         "type": "bar",
         "x": [
          "Andhra Pradesh",
          "Haryana",
          "Karnataka",
          "Madhya Pradesh",
          "Maharashtra",
          "Rajasthan",
          "Tamil Nadu",
          "Telangana "
         ],
         "xaxis": "x",
         "y": [
          27734,
          3893,
          591986,
          0,
          973173,
          0,
          95558,
          59249
         ],
         "yaxis": "y"
        },
        {
         "alignmentgroup": "True",
         "hovertemplate": "Crop=Horse-gram<br>State_Name=%{x}<br>Production=%{y}<extra></extra>",
         "legendgroup": "Horse-gram",
         "marker": {
          "color": "#FF6692",
          "pattern": {
           "shape": ""
          }
         },
         "name": "Horse-gram",
         "offsetgroup": "Horse-gram",
         "orientation": "v",
         "showlegend": true,
         "textposition": "auto",
         "type": "bar",
         "x": [
          "Andhra Pradesh",
          "Bihar",
          "Chhattisgarh",
          "Haryana",
          "Himachal Pradesh",
          "Jammu and Kashmir ",
          "Karnataka",
          "Kerala",
          "Madhya Pradesh",
          "Nagaland",
          "Odisha",
          "Tamil Nadu",
          "Telangana ",
          "Uttarakhand",
          "West Bengal"
         ],
         "xaxis": "x",
         "y": [
          2149378.326752942,
          132808,
          7230263.307011769,
          13983518.614023538,
          593273.4422509808,
          600,
          2098207,
          5825034.422509808,
          5321863.980258827,
          1580,
          2773853.169003923,
          7536475.307011769,
          2405970.769003923,
          99373,
          28186
         ],
         "yaxis": "y"
        },
        {
         "alignmentgroup": "True",
         "hovertemplate": "Crop=Jowar<br>State_Name=%{x}<br>Production=%{y}<extra></extra>",
         "legendgroup": "Jowar",
         "marker": {
          "color": "#B6E880",
          "pattern": {
           "shape": ""
          }
         },
         "name": "Jowar",
         "offsetgroup": "Jowar",
         "orientation": "v",
         "showlegend": true,
         "textposition": "auto",
         "type": "bar",
         "x": [
          "Andhra Pradesh",
          "Bihar",
          "Chhattisgarh",
          "Dadra and Nagar Haveli",
          "Gujarat",
          "Haryana",
          "Himachal Pradesh",
          "Jammu and Kashmir ",
          "Karnataka",
          "Kerala",
          "Madhya Pradesh",
          "Maharashtra",
          "Nagaland",
          "Odisha",
          "Puducherry",
          "Punjab",
          "Rajasthan",
          "Tamil Nadu",
          "Telangana ",
          "Uttar Pradesh",
          "Uttarakhand",
          "West Bengal"
         ],
         "xaxis": "x",
         "y": [
          4858115.442250981,
          83110,
          1837558.3267529423,
          7771,
          3790906.8845019615,
          31312372.43930198,
          89.2,
          4062.8999999999996,
          24191754,
          2926928.211254904,
          11799099.326752942,
          55018576,
          20840,
          40401,
          48,
          400,
          7214308.653505884,
          6070146.884501962,
          4727255,
          4374182,
          2,
          8090
         ],
         "yaxis": "y"
        },
        {
         "alignmentgroup": "True",
         "hovertemplate": "Crop=Korra<br>State_Name=%{x}<br>Production=%{y}<extra></extra>",
         "legendgroup": "Korra",
         "marker": {
          "color": "#FF97FF",
          "pattern": {
           "shape": ""
          }
         },
         "name": "Korra",
         "offsetgroup": "Korra",
         "orientation": "v",
         "showlegend": true,
         "textposition": "auto",
         "type": "bar",
         "x": [
          "Andhra Pradesh",
          "Tamil Nadu",
          "Telangana "
         ],
         "xaxis": "x",
         "y": [
          111383,
          3640,
          8690
         ],
         "yaxis": "y"
        },
        {
         "alignmentgroup": "True",
         "hovertemplate": "Crop=Lemon<br>State_Name=%{x}<br>Production=%{y}<extra></extra>",
         "legendgroup": "Lemon",
         "marker": {
          "color": "#FECB52",
          "pattern": {
           "shape": ""
          }
         },
         "name": "Lemon",
         "offsetgroup": "Lemon",
         "orientation": "v",
         "showlegend": true,
         "textposition": "auto",
         "type": "bar",
         "x": [
          "Andhra Pradesh"
         ],
         "xaxis": "x",
         "y": [
          540994
         ],
         "yaxis": "y"
        },
        {
         "alignmentgroup": "True",
         "hovertemplate": "Crop=Linseed<br>State_Name=%{x}<br>Production=%{y}<extra></extra>",
         "legendgroup": "Linseed",
         "marker": {
          "color": "#636efa",
          "pattern": {
           "shape": ""
          }
         },
         "name": "Linseed",
         "offsetgroup": "Linseed",
         "orientation": "v",
         "showlegend": true,
         "textposition": "auto",
         "type": "bar",
         "x": [
          "Andhra Pradesh",
          "Assam",
          "Bihar",
          "Chhattisgarh",
          "Himachal Pradesh",
          "Jammu and Kashmir ",
          "Karnataka",
          "Madhya Pradesh",
          "Maharashtra",
          "Meghalaya",
          "Nagaland",
          "Odisha",
          "Punjab",
          "Rajasthan",
          "Telangana ",
          "Uttar Pradesh",
          "Uttarakhand",
          "West Bengal"
         ],
         "xaxis": "x",
         "y": [
          583961.4422509808,
          79976,
          415119,
          1981354.3267529423,
          586563.4422509808,
          1268.5,
          1816757.3267529423,
          6779582.442509808,
          3710797.6535058846,
          522,
          85490,
          47699,
          585103.4422509808,
          2378175.769003923,
          590999.4422509808,
          10213734.518266672,
          1181245.8845019615,
          2954115.211254904
         ],
         "yaxis": "y"
        },
        {
         "alignmentgroup": "True",
         "hovertemplate": "Crop=Mango<br>State_Name=%{x}<br>Production=%{y}<extra></extra>",
         "legendgroup": "Mango",
         "marker": {
          "color": "#EF553B",
          "pattern": {
           "shape": ""
          }
         },
         "name": "Mango",
         "offsetgroup": "Mango",
         "orientation": "v",
         "showlegend": true,
         "textposition": "auto",
         "type": "bar",
         "x": [
          "Andhra Pradesh",
          "Goa",
          "Haryana",
          "Karnataka",
          "Kerala",
          "Madhya Pradesh",
          "Maharashtra",
          "Manipur",
          "Puducherry",
          "Rajasthan",
          "Tamil Nadu",
          "Telangana "
         ],
         "xaxis": "x",
         "y": [
          8253919,
          17831,
          11767,
          714735,
          1650151,
          0,
          370960,
          2025,
          20167,
          0,
          1371865,
          357116
         ],
         "yaxis": "y"
        },
        {
         "alignmentgroup": "True",
         "hovertemplate": "Crop=Masoor<br>State_Name=%{x}<br>Production=%{y}<extra></extra>",
         "legendgroup": "Masoor",
         "marker": {
          "color": "#00cc96",
          "pattern": {
           "shape": ""
          }
         },
         "name": "Masoor",
         "offsetgroup": "Masoor",
         "orientation": "v",
         "showlegend": true,
         "textposition": "auto",
         "type": "bar",
         "x": [
          "Andhra Pradesh",
          "Assam",
          "Bihar",
          "Chandigarh",
          "Chhattisgarh",
          "Haryana",
          "Himachal Pradesh",
          "Jammu and Kashmir ",
          "Jharkhand",
          "Madhya Pradesh",
          "Meghalaya",
          "Mizoram",
          "Nagaland",
          "Odisha",
          "Punjab",
          "Rajasthan",
          "Telangana ",
          "Tripura",
          "Uttar Pradesh",
          "Uttarakhand",
          "West Bengal"
         ],
         "xaxis": "x",
         "y": [
          66427,
          183726,
          2435684,
          32.5,
          660818.4422509808,
          33270870.208305903,
          585832.4422509808,
          309.7,
          20718.32,
          4926713.769003923,
          3451,
          187.33,
          18110,
          18570,
          1803449.3267529423,
          3244300.211254904,
          88615,
          5614,
          6229900,
          106339,
          1423963.4422509808
         ],
         "yaxis": "y"
        },
        {
         "alignmentgroup": "True",
         "hovertemplate": "Crop=Mesta<br>State_Name=%{x}<br>Production=%{y}<extra></extra>",
         "legendgroup": "Mesta",
         "marker": {
          "color": "#ab63fa",
          "pattern": {
           "shape": ""
          }
         },
         "name": "Mesta",
         "offsetgroup": "Mesta",
         "orientation": "v",
         "showlegend": true,
         "textposition": "auto",
         "type": "bar",
         "x": [
          "Andhra Pradesh",
          "Assam",
          "Bihar",
          "Chhattisgarh",
          "Karnataka",
          "Madhya Pradesh",
          "Meghalaya",
          "Nagaland",
          "Odisha",
          "Rajasthan",
          "Tamil Nadu",
          "Telangana ",
          "Tripura",
          "West Bengal"
         ],
         "xaxis": "x",
         "y": [
          7239508.442250981,
          468192,
          2842240,
          1783417.3267529423,
          46753,
          2344408.769003923,
          381962,
          14070,
          232260,
          3495055.6535058846,
          1167663.8845019615,
          600880.4422509808,
          87516,
          1592173
         ],
         "yaxis": "y"
        },
        {
         "alignmentgroup": "True",
         "hovertemplate": "Crop=Niger seed<br>State_Name=%{x}<br>Production=%{y}<extra></extra>",
         "legendgroup": "Niger seed",
         "marker": {
          "color": "#FFA15A",
          "pattern": {
           "shape": ""
          }
         },
         "name": "Niger seed",
         "offsetgroup": "Niger seed",
         "orientation": "v",
         "showlegend": true,
         "textposition": "auto",
         "type": "bar",
         "x": [
          "Andhra Pradesh",
          "Assam",
          "Bihar",
          "Chhattisgarh",
          "Dadra and Nagar Haveli",
          "Karnataka",
          "Madhya Pradesh",
          "Maharashtra",
          "Nagaland",
          "Odisha",
          "Tamil Nadu",
          "Telangana ",
          "West Bengal"
         ],
         "xaxis": "x",
         "y": [
          1241435.8845019615,
          80375,
          615,
          9503722.076015692,
          2378,
          110614,
          4410098.195756866,
          10688691.960517654,
          88690,
          212457.9,
          5242530.980258827,
          1985,
          58939
         ],
         "yaxis": "y"
        },
        {
         "alignmentgroup": "True",
         "hovertemplate": "Crop=Onion<br>State_Name=%{x}<br>Production=%{y}<extra></extra>",
         "legendgroup": "Onion",
         "marker": {
          "color": "#19d3f3",
          "pattern": {
           "shape": ""
          }
         },
         "name": "Onion",
         "offsetgroup": "Onion",
         "orientation": "v",
         "showlegend": true,
         "textposition": "auto",
         "type": "bar",
         "x": [
          "Andhra Pradesh",
          "Assam",
          "Bihar",
          "Chandigarh",
          "Chhattisgarh",
          "Gujarat",
          "Haryana",
          "Himachal Pradesh",
          "Jammu and Kashmir ",
          "Jharkhand",
          "Karnataka",
          "Kerala",
          "Madhya Pradesh",
          "Maharashtra",
          "Manipur",
          "Odisha",
          "Puducherry",
          "Rajasthan",
          "Tamil Nadu",
          "Telangana ",
          "Uttar Pradesh",
          "Uttarakhand"
         ],
         "xaxis": "x",
         "y": [
          6718618,
          348590,
          1538998,
          1884,
          1593283.8845019615,
          18808000,
          11274461.960517654,
          46389,
          7413.3,
          90533.9,
          12985922,
          2912517.211254904,
          10511096,
          1663240,
          14915,
          1492182,
          1459,
          4520492.442250981,
          5191301.884501962,
          4008473,
          4626782,
          406593
         ],
         "yaxis": "y"
        },
        {
         "alignmentgroup": "True",
         "hovertemplate": "Crop=Orange<br>State_Name=%{x}<br>Production=%{y}<extra></extra>",
         "legendgroup": "Orange",
         "marker": {
          "color": "#FF6692",
          "pattern": {
           "shape": ""
          }
         },
         "name": "Orange",
         "offsetgroup": "Orange",
         "orientation": "v",
         "showlegend": true,
         "textposition": "auto",
         "type": "bar",
         "x": [
          "Andhra Pradesh",
          "Assam",
          "Madhya Pradesh",
          "Manipur",
          "Rajasthan",
          "Tamil Nadu",
          "Telangana "
         ],
         "xaxis": "x",
         "y": [
          955677,
          892874,
          0,
          5097,
          0,
          9314,
          475841
         ],
         "yaxis": "y"
        },
        {
         "alignmentgroup": "True",
         "hovertemplate": "Crop=Other  Rabi pulses<br>State_Name=%{x}<br>Production=%{y}<extra></extra>",
         "legendgroup": "Other  Rabi pulses",
         "marker": {
          "color": "#B6E880",
          "pattern": {
           "shape": ""
          }
         },
         "name": "Other  Rabi pulses",
         "offsetgroup": "Other  Rabi pulses",
         "orientation": "v",
         "showlegend": true,
         "textposition": "auto",
         "type": "bar",
         "x": [
          "Andhra Pradesh",
          "Assam",
          "Bihar",
          "Chhattisgarh",
          "Dadra and Nagar Haveli",
          "Goa",
          "Gujarat",
          "Haryana",
          "Himachal Pradesh",
          "Jammu and Kashmir ",
          "Karnataka",
          "Madhya Pradesh",
          "Maharashtra",
          "Meghalaya",
          "Mizoram",
          "Nagaland",
          "Odisha",
          "Puducherry",
          "Punjab",
          "Rajasthan",
          "Sikkim",
          "Telangana ",
          "Tripura",
          "Uttar Pradesh",
          "Uttarakhand",
          "West Bengal"
         ],
         "xaxis": "x",
         "y": [
          38821,
          459291,
          500448,
          20978347.92103531,
          47987,
          66897,
          3028817.211254904,
          660503.4422509808,
          1165438.8845019615,
          950.4,
          90921,
          14029207.287270596,
          6344846.422509808,
          19256,
          20074,
          62410,
          83729,
          698,
          6300,
          2470633.769003923,
          2546,
          1775083.3267529423,
          9806,
          705965,
          7573436.74926275,
          674
         ],
         "yaxis": "y"
        },
        {
         "alignmentgroup": "True",
         "hovertemplate": "Crop=Other Fresh Fruits<br>State_Name=%{x}<br>Production=%{y}<extra></extra>",
         "legendgroup": "Other Fresh Fruits",
         "marker": {
          "color": "#FF97FF",
          "pattern": {
           "shape": ""
          }
         },
         "name": "Other Fresh Fruits",
         "offsetgroup": "Other Fresh Fruits",
         "orientation": "v",
         "showlegend": true,
         "textposition": "auto",
         "type": "bar",
         "x": [
          "Andhra Pradesh",
          "Goa",
          "Haryana",
          "Jammu and Kashmir ",
          "Karnataka",
          "Kerala",
          "Madhya Pradesh",
          "Manipur",
          "Rajasthan",
          "Sikkim",
          "Tamil Nadu",
          "Telangana "
         ],
         "xaxis": "x",
         "y": [
          60327,
          89643,
          121500,
          0,
          56441,
          0,
          0,
          51089,
          0,
          18190,
          0,
          2253
         ],
         "yaxis": "y"
        },
        {
         "alignmentgroup": "True",
         "hovertemplate": "Crop=Other Vegetables<br>State_Name=%{x}<br>Production=%{y}<extra></extra>",
         "legendgroup": "Other Vegetables",
         "marker": {
          "color": "#FECB52",
          "pattern": {
           "shape": ""
          }
         },
         "name": "Other Vegetables",
         "offsetgroup": "Other Vegetables",
         "orientation": "v",
         "showlegend": true,
         "textposition": "auto",
         "type": "bar",
         "x": [
          "Andhra Pradesh",
          "Goa",
          "Haryana",
          "Jammu and Kashmir ",
          "Kerala",
          "Madhya Pradesh",
          "Manipur",
          "Rajasthan",
          "Sikkim",
          "Tamil Nadu",
          "Telangana "
         ],
         "xaxis": "x",
         "y": [
          0,
          161921,
          664300,
          29895,
          0,
          0,
          3471,
          0,
          103620,
          5,
          0
         ],
         "yaxis": "y"
        },
        {
         "alignmentgroup": "True",
         "hovertemplate": "Crop=Papaya<br>State_Name=%{x}<br>Production=%{y}<extra></extra>",
         "legendgroup": "Papaya",
         "marker": {
          "color": "#636efa",
          "pattern": {
           "shape": ""
          }
         },
         "name": "Papaya",
         "offsetgroup": "Papaya",
         "orientation": "v",
         "showlegend": true,
         "textposition": "auto",
         "type": "bar",
         "x": [
          "Andhra Pradesh",
          "Assam",
          "Chhattisgarh",
          "Karnataka",
          "Kerala",
          "Madhya Pradesh",
          "Manipur",
          "Meghalaya",
          "Rajasthan",
          "Tamil Nadu",
          "Telangana "
         ],
         "xaxis": "x",
         "y": [
          2700821,
          806067,
          10187,
          3951,
          267675,
          40761,
          21940,
          8760,
          400,
          0,
          61959
         ],
         "yaxis": "y"
        },
        {
         "alignmentgroup": "True",
         "hovertemplate": "Crop=Peas  (vegetable)<br>State_Name=%{x}<br>Production=%{y}<extra></extra>",
         "legendgroup": "Peas  (vegetable)",
         "marker": {
          "color": "#EF553B",
          "pattern": {
           "shape": ""
          }
         },
         "name": "Peas  (vegetable)",
         "offsetgroup": "Peas  (vegetable)",
         "orientation": "v",
         "showlegend": true,
         "textposition": "auto",
         "type": "bar",
         "x": [
          "Andhra Pradesh",
          "Telangana "
         ],
         "xaxis": "x",
         "y": [
          0,
          0
         ],
         "yaxis": "y"
        },
        {
         "alignmentgroup": "True",
         "hovertemplate": "Crop=Pome Fruit<br>State_Name=%{x}<br>Production=%{y}<extra></extra>",
         "legendgroup": "Pome Fruit",
         "marker": {
          "color": "#00cc96",
          "pattern": {
           "shape": ""
          }
         },
         "name": "Pome Fruit",
         "offsetgroup": "Pome Fruit",
         "orientation": "v",
         "showlegend": true,
         "textposition": "auto",
         "type": "bar",
         "x": [
          "Andhra Pradesh",
          "Karnataka",
          "Madhya Pradesh",
          "Manipur",
          "Rajasthan",
          "Tamil Nadu",
          "Telangana "
         ],
         "xaxis": "x",
         "y": [
          251433,
          52741,
          0,
          4027,
          0,
          107687,
          65452
         ],
         "yaxis": "y"
        },
        {
         "alignmentgroup": "True",
         "hovertemplate": "Crop=Pome Granet<br>State_Name=%{x}<br>Production=%{y}<extra></extra>",
         "legendgroup": "Pome Granet",
         "marker": {
          "color": "#ab63fa",
          "pattern": {
           "shape": ""
          }
         },
         "name": "Pome Granet",
         "offsetgroup": "Pome Granet",
         "orientation": "v",
         "showlegend": true,
         "textposition": "auto",
         "type": "bar",
         "x": [
          "Andhra Pradesh",
          "Tamil Nadu"
         ],
         "xaxis": "x",
         "y": [
          66334,
          0
         ],
         "yaxis": "y"
        },
        {
         "alignmentgroup": "True",
         "hovertemplate": "Crop=Potato<br>State_Name=%{x}<br>Production=%{y}<extra></extra>",
         "legendgroup": "Potato",
         "marker": {
          "color": "#FFA15A",
          "pattern": {
           "shape": ""
          }
         },
         "name": "Potato",
         "offsetgroup": "Potato",
         "orientation": "v",
         "showlegend": true,
         "textposition": "auto",
         "type": "bar",
         "x": [
          "Andhra Pradesh",
          "Arunachal Pradesh",
          "Assam",
          "Bihar",
          "Chandigarh",
          "Chhattisgarh",
          "Gujarat",
          "Haryana",
          "Himachal Pradesh",
          "Jammu and Kashmir ",
          "Jharkhand",
          "Karnataka",
          "Kerala",
          "Madhya Pradesh",
          "Manipur",
          "Meghalaya",
          "Mizoram",
          "Nagaland",
          "Odisha",
          "Rajasthan",
          "Sikkim",
          "Tamil Nadu",
          "Telangana ",
          "Tripura",
          "Uttar Pradesh",
          "Uttarakhand",
          "West Bengal"
         ],
         "xaxis": "x",
         "y": [
          216449,
          578571,
          11021521,
          14035519,
          13795,
          3786583.211254904,
          17283000,
          7116520.653505884,
          1233663,
          126900.9,
          1365212.66,
          5950292,
          54534,
          10386198,
          131800,
          2853298,
          21163,
          886310,
          1520018.3,
          4286506.653505884,
          60460,
          1081953,
          347817,
          513785,
          192068401,
          2811721,
          154976910
         ],
         "yaxis": "y"
        },
        {
         "alignmentgroup": "True",
         "hovertemplate": "Crop=Ragi<br>State_Name=%{x}<br>Production=%{y}<extra></extra>",
         "legendgroup": "Ragi",
         "marker": {
          "color": "#19d3f3",
          "pattern": {
           "shape": ""
          }
         },
         "name": "Ragi",
         "offsetgroup": "Ragi",
         "orientation": "v",
         "showlegend": true,
         "textposition": "auto",
         "type": "bar",
         "x": [
          "Andhra Pradesh",
          "Bihar",
          "Chhattisgarh",
          "Dadra and Nagar Haveli",
          "Goa",
          "Gujarat",
          "Himachal Pradesh",
          "Jharkhand",
          "Karnataka",
          "Kerala",
          "Madhya Pradesh",
          "Maharashtra",
          "Nagaland",
          "Odisha",
          "Puducherry",
          "Tamil Nadu",
          "Telangana ",
          "Uttar Pradesh",
          "Uttarakhand",
          "West Bengal"
         ],
         "xaxis": "x",
         "y": [
          1159489,
          254292,
          3529305.6535058846,
          31087,
          4432.58,
          297700,
          13608,
          183569.48,
          23538643,
          1175189.8845019615,
          6409909.664760789,
          2370535,
          1700,
          5567992.838007846,
          2904,
          4672437.884501962,
          182535,
          2369,
          2375091,
          251210
         ],
         "yaxis": "y"
        },
        {
         "alignmentgroup": "True",
         "hovertemplate": "Crop=Rapeseed &Mustard<br>State_Name=%{x}<br>Production=%{y}<extra></extra>",
         "legendgroup": "Rapeseed &Mustard",
         "marker": {
          "color": "#FF6692",
          "pattern": {
           "shape": ""
          }
         },
         "name": "Rapeseed &Mustard",
         "offsetgroup": "Rapeseed &Mustard",
         "orientation": "v",
         "showlegend": true,
         "textposition": "auto",
         "type": "bar",
         "x": [
          "Andhra Pradesh",
          "Arunachal Pradesh",
          "Assam",
          "Bihar",
          "Chandigarh",
          "Chhattisgarh",
          "Dadra and Nagar Haveli",
          "Gujarat",
          "Haryana",
          "Himachal Pradesh",
          "Jammu and Kashmir ",
          "Jharkhand",
          "Karnataka",
          "Madhya Pradesh",
          "Maharashtra",
          "Manipur",
          "Meghalaya",
          "Mizoram",
          "Nagaland",
          "Odisha",
          "Puducherry",
          "Punjab",
          "Rajasthan",
          "Sikkim",
          "Tamil Nadu",
          "Telangana ",
          "Tripura",
          "Uttar Pradesh",
          "Uttarakhand",
          "West Bengal"
         ],
         "xaxis": "x",
         "y": [
          4131004.095756865,
          38730,
          2495723,
          2171965.442250981,
          521,
          1478668.8845019615,
          56,
          5844000,
          13716317.211254904,
          43406,
          314539.8,
          44528.11,
          4683850.638007846,
          14398376.763505885,
          5866756.922509808,
          3980,
          98955,
          11187,
          351641,
          1834045.4267529424,
          1465,
          791700,
          38817485,
          67705,
          7574197.84926275,
          1172196.8845019615,
          22235,
          11259735,
          137325,
          7864671.884501962
         ],
         "yaxis": "y"
        },
        {
         "alignmentgroup": "True",
         "hovertemplate": "Crop=Safflower<br>State_Name=%{x}<br>Production=%{y}<extra></extra>",
         "legendgroup": "Safflower",
         "marker": {
          "color": "#B6E880",
          "pattern": {
           "shape": ""
          }
         },
         "name": "Safflower",
         "offsetgroup": "Safflower",
         "orientation": "v",
         "showlegend": true,
         "textposition": "auto",
         "type": "bar",
         "x": [
          "Andhra Pradesh",
          "Bihar",
          "Chhattisgarh",
          "Karnataka",
          "Madhya Pradesh",
          "Maharashtra",
          "Odisha",
          "Telangana ",
          "West Bengal"
         ],
         "xaxis": "x",
         "y": [
          1174000.8845019615,
          4032,
          7575526.74926275,
          891029,
          5826627.902509808,
          4140418.769003923,
          588925.4422509808,
          86940,
          8709
         ],
         "yaxis": "y"
        },
        {
         "alignmentgroup": "True",
         "hovertemplate": "Crop=Samai<br>State_Name=%{x}<br>Production=%{y}<extra></extra>",
         "legendgroup": "Samai",
         "marker": {
          "color": "#FF97FF",
          "pattern": {
           "shape": ""
          }
         },
         "name": "Samai",
         "offsetgroup": "Samai",
         "orientation": "v",
         "showlegend": true,
         "textposition": "auto",
         "type": "bar",
         "x": [
          "Andhra Pradesh",
          "Tamil Nadu",
          "Telangana "
         ],
         "xaxis": "x",
         "y": [
          64480,
          79535,
          1160
         ],
         "yaxis": "y"
        },
        {
         "alignmentgroup": "True",
         "hovertemplate": "Crop=Sannhamp<br>State_Name=%{x}<br>Production=%{y}<extra></extra>",
         "legendgroup": "Sannhamp",
         "marker": {
          "color": "#FECB52",
          "pattern": {
           "shape": ""
          }
         },
         "name": "Sannhamp",
         "offsetgroup": "Sannhamp",
         "orientation": "v",
         "showlegend": true,
         "textposition": "auto",
         "type": "bar",
         "x": [
          "Andhra Pradesh",
          "Bihar",
          "Chhattisgarh",
          "Dadra and Nagar Haveli",
          "Haryana",
          "Himachal Pradesh",
          "Jammu and Kashmir ",
          "Karnataka",
          "Madhya Pradesh",
          "Odisha",
          "Rajasthan",
          "Tamil Nadu",
          "Uttar Pradesh",
          "Uttarakhand",
          "West Bengal"
         ],
         "xaxis": "x",
         "y": [
          2912517.211254904,
          52122.56,
          11077340.402768634,
          523,
          43107083.72657257,
          582580.4422509808,
          684.6,
          1749444.3267529423,
          7073695.307011769,
          79340,
          34958752.53505885,
          2344857.769003923,
          19819466.036533345,
          1262,
          107961
         ],
         "yaxis": "y"
        },
        {
         "alignmentgroup": "True",
         "hovertemplate": "Crop=Sapota<br>State_Name=%{x}<br>Production=%{y}<extra></extra>",
         "legendgroup": "Sapota",
         "marker": {
          "color": "#636efa",
          "pattern": {
           "shape": ""
          }
         },
         "name": "Sapota",
         "offsetgroup": "Sapota",
         "orientation": "v",
         "showlegend": true,
         "textposition": "auto",
         "type": "bar",
         "x": [
          "Andhra Pradesh"
         ],
         "xaxis": "x",
         "y": [
          280427
         ],
         "yaxis": "y"
        },
        {
         "alignmentgroup": "True",
         "hovertemplate": "Crop=Sesamum<br>State_Name=%{x}<br>Production=%{y}<extra></extra>",
         "legendgroup": "Sesamum",
         "marker": {
          "color": "#EF553B",
          "pattern": {
           "shape": ""
          }
         },
         "name": "Sesamum",
         "offsetgroup": "Sesamum",
         "orientation": "v",
         "showlegend": true,
         "textposition": "auto",
         "type": "bar",
         "x": [
          "Andhra Pradesh",
          "Arunachal Pradesh",
          "Assam",
          "Bihar",
          "Chhattisgarh",
          "Dadra and Nagar Haveli",
          "Gujarat",
          "Haryana",
          "Himachal Pradesh",
          "Jammu and Kashmir ",
          "Karnataka",
          "Kerala",
          "Madhya Pradesh",
          "Maharashtra",
          "Manipur",
          "Meghalaya",
          "Mizoram",
          "Nagaland",
          "Odisha",
          "Puducherry",
          "Punjab",
          "Rajasthan",
          "Tamil Nadu",
          "Telangana ",
          "Tripura",
          "Uttar Pradesh",
          "Uttarakhand",
          "West Bengal"
         ],
         "xaxis": "x",
         "y": [
          3806492.6535058846,
          1568,
          140230,
          621691.4422509808,
          1263612.8845019615,
          194,
          3988910.326752942,
          62928750.76310592,
          1181972.8845019615,
          19269.3,
          1246861.4422509808,
          9325582.436015692,
          8445446.307011768,
          14956116.056274518,
          5130,
          18024,
          19264,
          48840,
          5490366.480258827,
          584040.4422509808,
          9425715.076015692,
          4186855.211254904,
          607498,
          3686402.6535058846,
          12652,
          6965743.564760788,
          588847.4422509808,
          2506228
         ],
         "yaxis": "y"
        },
        {
         "alignmentgroup": "True",
         "hovertemplate": "Crop=Small millets<br>State_Name=%{x}<br>Production=%{y}<extra></extra>",
         "legendgroup": "Small millets",
         "marker": {
          "color": "#00cc96",
          "pattern": {
           "shape": ""
          }
         },
         "name": "Small millets",
         "offsetgroup": "Small millets",
         "orientation": "v",
         "showlegend": true,
         "textposition": "auto",
         "type": "bar",
         "x": [
          "Andhra Pradesh",
          "Arunachal Pradesh",
          "Assam",
          "Bihar",
          "Chhattisgarh",
          "Dadra and Nagar Haveli",
          "Gujarat",
          "Himachal Pradesh",
          "Jammu and Kashmir ",
          "Karnataka",
          "Kerala",
          "Madhya Pradesh",
          "Maharashtra",
          "Meghalaya",
          "Nagaland",
          "Odisha",
          "Puducherry",
          "Rajasthan",
          "Sikkim",
          "Tamil Nadu",
          "Telangana ",
          "Uttar Pradesh",
          "Uttarakhand",
          "West Bengal"
         ],
         "xaxis": "x",
         "y": [
          934812.4422509808,
          364265,
          69650,
          74144,
          623629,
          3289,
          4700327.538007846,
          646705.4422509808,
          4468,
          931692.5422509807,
          1077,
          16534160.4985255,
          330700,
          37446,
          160560,
          88648,
          17,
          5305865.380258827,
          67141,
          2914866.769003923,
          1759229.3267529423,
          3709240.7535058847,
          690889,
          45255
         ],
         "yaxis": "y"
        },
        {
         "alignmentgroup": "True",
         "hovertemplate": "Crop=Soyabean<br>State_Name=%{x}<br>Production=%{y}<extra></extra>",
         "legendgroup": "Soyabean",
         "marker": {
          "color": "#ab63fa",
          "pattern": {
           "shape": ""
          }
         },
         "name": "Soyabean",
         "offsetgroup": "Soyabean",
         "orientation": "v",
         "showlegend": true,
         "textposition": "auto",
         "type": "bar",
         "x": [
          "Andhra Pradesh",
          "Arunachal Pradesh",
          "Chhattisgarh",
          "Gujarat",
          "Haryana",
          "Himachal Pradesh",
          "Karnataka",
          "Kerala",
          "Madhya Pradesh",
          "Maharashtra",
          "Manipur",
          "Meghalaya",
          "Mizoram",
          "Nagaland",
          "Odisha",
          "Rajasthan",
          "Sikkim",
          "Tamil Nadu",
          "Telangana ",
          "Uttar Pradesh",
          "Uttarakhand",
          "West Bengal"
         ],
         "xaxis": "x",
         "y": [
          1188034.8845019615,
          6465,
          3817721.211254904,
          137900,
          1165006.8845019615,
          9319,
          1844638,
          20.4,
          87021465.32675295,
          39994352,
          2717,
          21226,
          15240,
          484190,
          10,
          12399452.326752942,
          58430,
          6990041.307011769,
          1962759,
          2577242.769003923,
          191586,
          7009
         ],
         "yaxis": "y"
        },
        {
         "alignmentgroup": "True",
         "hovertemplate": "Crop=Tobacco<br>State_Name=%{x}<br>Production=%{y}<extra></extra>",
         "legendgroup": "Tobacco",
         "marker": {
          "color": "#FFA15A",
          "pattern": {
           "shape": ""
          }
         },
         "name": "Tobacco",
         "offsetgroup": "Tobacco",
         "orientation": "v",
         "showlegend": true,
         "textposition": "auto",
         "type": "bar",
         "x": [
          "Andhra Pradesh",
          "Assam",
          "Bihar",
          "Chhattisgarh",
          "Gujarat",
          "Haryana",
          "Himachal Pradesh",
          "Jammu and Kashmir ",
          "Karnataka",
          "Kerala",
          "Madhya Pradesh",
          "Maharashtra",
          "Meghalaya",
          "Mizoram",
          "Odisha",
          "Rajasthan",
          "Tamil Nadu",
          "Telangana ",
          "Uttar Pradesh",
          "Uttarakhand",
          "West Bengal"
         ],
         "xaxis": "x",
         "y": [
          4277950.442250981,
          1171361.8845019615,
          284452,
          2912744.211254904,
          3120903.442250981,
          1747510.3267529423,
          84,
          35,
          1048160,
          3616,
          5825848.442509808,
          3900,
          9201,
          3560,
          19067,
          18652651.152031384,
          1866054.3267529423,
          1521284.8845019615,
          2130702,
          1169966.8845019615,
          259815
         ],
         "yaxis": "y"
        },
        {
         "alignmentgroup": "True",
         "hovertemplate": "Crop=Tomato<br>State_Name=%{x}<br>Production=%{y}<extra></extra>",
         "legendgroup": "Tomato",
         "marker": {
          "color": "#19d3f3",
          "pattern": {
           "shape": ""
          }
         },
         "name": "Tomato",
         "offsetgroup": "Tomato",
         "orientation": "v",
         "showlegend": true,
         "textposition": "auto",
         "type": "bar",
         "x": [
          "Andhra Pradesh",
          "Karnataka",
          "Madhya Pradesh",
          "Maharashtra",
          "Manipur",
          "Tamil Nadu",
          "Telangana "
         ],
         "xaxis": "x",
         "y": [
          3366529,
          447872,
          0,
          89065,
          8938,
          509939,
          302641
         ],
         "yaxis": "y"
        },
        {
         "alignmentgroup": "True",
         "hovertemplate": "Crop=Varagu<br>State_Name=%{x}<br>Production=%{y}<extra></extra>",
         "legendgroup": "Varagu",
         "marker": {
          "color": "#FF6692",
          "pattern": {
           "shape": ""
          }
         },
         "name": "Varagu",
         "offsetgroup": "Varagu",
         "orientation": "v",
         "showlegend": true,
         "textposition": "auto",
         "type": "bar",
         "x": [
          "Andhra Pradesh",
          "Tamil Nadu",
          "Telangana "
         ],
         "xaxis": "x",
         "y": [
          6355,
          43322,
          17
         ],
         "yaxis": "y"
        },
        {
         "alignmentgroup": "True",
         "hovertemplate": "Crop=Wheat<br>State_Name=%{x}<br>Production=%{y}<extra></extra>",
         "legendgroup": "Wheat",
         "marker": {
          "color": "#B6E880",
          "pattern": {
           "shape": ""
          }
         },
         "name": "Wheat",
         "offsetgroup": "Wheat",
         "orientation": "v",
         "showlegend": true,
         "textposition": "auto",
         "type": "bar",
         "x": [
          "Andhra Pradesh",
          "Arunachal Pradesh",
          "Assam",
          "Bihar",
          "Chandigarh",
          "Chhattisgarh",
          "Dadra and Nagar Haveli",
          "Gujarat",
          "Haryana",
          "Himachal Pradesh",
          "Jammu and Kashmir ",
          "Jharkhand",
          "Karnataka",
          "Kerala",
          "Madhya Pradesh",
          "Maharashtra",
          "Meghalaya",
          "Mizoram",
          "Nagaland",
          "Odisha",
          "Punjab",
          "Rajasthan",
          "Sikkim",
          "Tamil Nadu",
          "Telangana ",
          "Tripura",
          "Uttar Pradesh",
          "Uttarakhand",
          "West Bengal"
         ],
         "xaxis": "x",
         "y": [
          2340608.769003923,
          102145,
          1218370,
          81020206,
          39465,
          2839126.8845019615,
          17134,
          36783800,
          158647000,
          6105703,
          3690143.8,
          569101.3,
          3856245,
          582506.4422509808,
          147153856,
          22443475,
          42192,
          101,
          110810,
          120656.7,
          276946000,
          94669124,
          106540,
          8155158.19151373,
          142819,
          26804,
          469911750,
          11632116,
          15785272
         ],
         "yaxis": "y"
        },
        {
         "alignmentgroup": "True",
         "hovertemplate": "Crop=other fibres<br>State_Name=%{x}<br>Production=%{y}<extra></extra>",
         "legendgroup": "other fibres",
         "marker": {
          "color": "#FF97FF",
          "pattern": {
           "shape": ""
          }
         },
         "name": "other fibres",
         "offsetgroup": "other fibres",
         "orientation": "v",
         "showlegend": true,
         "textposition": "auto",
         "type": "bar",
         "x": [
          "Andhra Pradesh",
          "Rajasthan",
          "Telangana "
         ],
         "xaxis": "x",
         "y": [
          0,
          0,
          0
         ],
         "yaxis": "y"
        },
        {
         "alignmentgroup": "True",
         "hovertemplate": "Crop=other misc. pulses<br>State_Name=%{x}<br>Production=%{y}<extra></extra>",
         "legendgroup": "other misc. pulses",
         "marker": {
          "color": "#FECB52",
          "pattern": {
           "shape": ""
          }
         },
         "name": "other misc. pulses",
         "offsetgroup": "other misc. pulses",
         "orientation": "v",
         "showlegend": true,
         "textposition": "auto",
         "type": "bar",
         "x": [
          "Andhra Pradesh",
          "Assam",
          "Chhattisgarh",
          "Madhya Pradesh",
          "Telangana "
         ],
         "xaxis": "x",
         "y": [
          1426,
          6672,
          0.01,
          0.21,
          1606
         ],
         "yaxis": "y"
        },
        {
         "alignmentgroup": "True",
         "hovertemplate": "Crop=Oilseeds total<br>State_Name=%{x}<br>Production=%{y}<extra></extra>",
         "legendgroup": "Oilseeds total",
         "marker": {
          "color": "#636efa",
          "pattern": {
           "shape": ""
          }
         },
         "name": "Oilseeds total",
         "offsetgroup": "Oilseeds total",
         "orientation": "v",
         "showlegend": true,
         "textposition": "auto",
         "type": "bar",
         "x": [
          "Arunachal Pradesh",
          "Gujarat",
          "Meghalaya",
          "Nagaland",
          "Rajasthan",
          "Sikkim",
          "Tripura",
          "Uttar Pradesh",
          "West Bengal"
         ],
         "xaxis": "x",
         "y": [
          705464,
          3845031,
          1344,
          69500,
          0,
          7040,
          18800,
          563081,
          38657300
         ],
         "yaxis": "y"
        },
        {
         "alignmentgroup": "True",
         "hovertemplate": "Crop=Pulses total<br>State_Name=%{x}<br>Production=%{y}<extra></extra>",
         "legendgroup": "Pulses total",
         "marker": {
          "color": "#EF553B",
          "pattern": {
           "shape": ""
          }
         },
         "name": "Pulses total",
         "offsetgroup": "Pulses total",
         "orientation": "v",
         "showlegend": true,
         "textposition": "auto",
         "type": "bar",
         "x": [
          "Arunachal Pradesh",
          "Gujarat",
          "Maharashtra",
          "Meghalaya",
          "Sikkim",
          "Tamil Nadu",
          "Uttarakhand",
          "West Bengal"
         ],
         "xaxis": "x",
         "y": [
          35498,
          610606,
          8439,
          4952,
          5595,
          750495,
          109090,
          14150679
         ],
         "yaxis": "y"
        },
        {
         "alignmentgroup": "True",
         "hovertemplate": "Crop=Blackgram<br>State_Name=%{x}<br>Production=%{y}<extra></extra>",
         "legendgroup": "Blackgram",
         "marker": {
          "color": "#00cc96",
          "pattern": {
           "shape": ""
          }
         },
         "name": "Blackgram",
         "offsetgroup": "Blackgram",
         "orientation": "v",
         "showlegend": true,
         "textposition": "auto",
         "type": "bar",
         "x": [
          "Assam",
          "Bihar",
          "Kerala",
          "Nagaland"
         ],
         "xaxis": "x",
         "y": [
          23058,
          18601,
          11067565.402768634,
          2280
         ],
         "yaxis": "y"
        },
        {
         "alignmentgroup": "True",
         "hovertemplate": "Crop=Jute<br>State_Name=%{x}<br>Production=%{y}<extra></extra>",
         "legendgroup": "Jute",
         "marker": {
          "color": "#ab63fa",
          "pattern": {
           "shape": ""
          }
         },
         "name": "Jute",
         "offsetgroup": "Jute",
         "orientation": "v",
         "showlegend": true,
         "textposition": "auto",
         "type": "bar",
         "x": [
          "Assam",
          "Bihar",
          "Chhattisgarh",
          "Haryana",
          "Madhya Pradesh",
          "Manipur",
          "Meghalaya",
          "Nagaland",
          "Odisha",
          "Tamil Nadu",
          "Tripura",
          "Uttar Pradesh",
          "West Bengal"
         ],
         "xaxis": "x",
         "y": [
          11789532,
          20300657,
          22717634.24778825,
          582503.4422509808,
          1756160.3267529423,
          80,
          685687,
          136480,
          747092.9,
          1165006.8845019615,
          64223,
          105,
          147825671
         ],
         "yaxis": "y"
        },
        {
         "alignmentgroup": "True",
         "hovertemplate": "Crop=Paddy<br>State_Name=%{x}<br>Production=%{y}<extra></extra>",
         "legendgroup": "Paddy",
         "marker": {
          "color": "#FFA15A",
          "pattern": {
           "shape": ""
          }
         },
         "name": "Paddy",
         "offsetgroup": "Paddy",
         "orientation": "v",
         "showlegend": true,
         "textposition": "auto",
         "type": "bar",
         "x": [
          "Assam",
          "Karnataka",
          "Madhya Pradesh",
          "Odisha",
          "Puducherry"
         ],
         "xaxis": "x",
         "y": [
          19095877,
          4816536,
          1530500,
          6204467,
          55021
         ],
         "yaxis": "y"
        },
        {
         "alignmentgroup": "True",
         "hovertemplate": "Crop=Peas & beans (Pulses)<br>State_Name=%{x}<br>Production=%{y}<extra></extra>",
         "legendgroup": "Peas & beans (Pulses)",
         "marker": {
          "color": "#19d3f3",
          "pattern": {
           "shape": ""
          }
         },
         "name": "Peas & beans (Pulses)",
         "offsetgroup": "Peas & beans (Pulses)",
         "orientation": "v",
         "showlegend": true,
         "textposition": "auto",
         "type": "bar",
         "x": [
          "Assam",
          "Bihar",
          "Chhattisgarh",
          "Haryana",
          "Himachal Pradesh",
          "Jammu and Kashmir ",
          "Karnataka",
          "Madhya Pradesh",
          "Manipur",
          "Meghalaya",
          "Mizoram",
          "Nagaland",
          "Punjab",
          "Rajasthan",
          "Tripura",
          "Uttar Pradesh",
          "Uttarakhand",
          "West Bengal"
         ],
         "xaxis": "x",
         "y": [
          220368,
          338196,
          3572413.6535058846,
          34969830.53505885,
          732895.4422509808,
          9693.3,
          227107,
          1491514.4422509808,
          605834.4422509808,
          16790,
          1166782.8245019615,
          126410,
          1283926.8845019615,
          1400247.8845019615,
          8711,
          6031384,
          645468.4422509808,
          758146.4422509808
         ],
         "yaxis": "y"
        },
        {
         "alignmentgroup": "True",
         "hovertemplate": "Crop=Pineapple<br>State_Name=%{x}<br>Production=%{y}<extra></extra>",
         "legendgroup": "Pineapple",
         "marker": {
          "color": "#FF6692",
          "pattern": {
           "shape": ""
          }
         },
         "name": "Pineapple",
         "offsetgroup": "Pineapple",
         "orientation": "v",
         "showlegend": true,
         "textposition": "auto",
         "type": "bar",
         "x": [
          "Assam",
          "Goa",
          "Kerala",
          "Manipur",
          "Meghalaya",
          "Tamil Nadu"
         ],
         "xaxis": "x",
         "y": [
          1461324,
          10985,
          263381,
          155469,
          175004,
          61431
         ],
         "yaxis": "y"
        },
        {
         "alignmentgroup": "True",
         "hovertemplate": "Crop=Barley<br>State_Name=%{x}<br>Production=%{y}<extra></extra>",
         "legendgroup": "Barley",
         "marker": {
          "color": "#B6E880",
          "pattern": {
           "shape": ""
          }
         },
         "name": "Barley",
         "offsetgroup": "Barley",
         "orientation": "v",
         "showlegend": true,
         "textposition": "auto",
         "type": "bar",
         "x": [
          "Bihar",
          "Chhattisgarh",
          "Haryana",
          "Himachal Pradesh",
          "Jammu and Kashmir ",
          "Jharkhand",
          "Madhya Pradesh",
          "Nagaland",
          "Punjab",
          "Rajasthan",
          "Sikkim",
          "Uttar Pradesh",
          "Uttarakhand",
          "West Bengal"
         ],
         "xaxis": "x",
         "y": [
          346454,
          625708.4422509808,
          49581282.26458042,
          352595,
          53480.4,
          5790.52,
          1682241,
          39740,
          1249400,
          7442917,
          18198,
          8594791,
          391260,
          62195
         ],
         "yaxis": "y"
        },
        {
         "alignmentgroup": "True",
         "hovertemplate": "Crop=Khesari<br>State_Name=%{x}<br>Production=%{y}<extra></extra>",
         "legendgroup": "Khesari",
         "marker": {
          "color": "#FF97FF",
          "pattern": {
           "shape": ""
          }
         },
         "name": "Khesari",
         "offsetgroup": "Khesari",
         "orientation": "v",
         "showlegend": true,
         "textposition": "auto",
         "type": "bar",
         "x": [
          "Bihar",
          "Chhattisgarh",
          "Madhya Pradesh",
          "West Bengal"
         ],
         "xaxis": "x",
         "y": [
          1528910,
          3999298.442250981,
          1447370.8845019615,
          1705129.8845019615
         ],
         "yaxis": "y"
        },
        {
         "alignmentgroup": "True",
         "hovertemplate": "Crop=Guar seed<br>State_Name=%{x}<br>Production=%{y}<extra></extra>",
         "legendgroup": "Guar seed",
         "marker": {
          "color": "#FECB52",
          "pattern": {
           "shape": ""
          }
         },
         "name": "Guar seed",
         "offsetgroup": "Guar seed",
         "orientation": "v",
         "showlegend": true,
         "textposition": "auto",
         "type": "bar",
         "x": [
          "Chhattisgarh",
          "Gujarat",
          "Haryana",
          "Punjab",
          "Rajasthan",
          "Tamil Nadu",
          "Uttar Pradesh"
         ],
         "xaxis": "x",
         "y": [
          21,
          3029310.326752942,
          278379,
          254772,
          27788097.478784326,
          3514258,
          21818
         ],
         "yaxis": "y"
        },
        {
         "alignmentgroup": "True",
         "hovertemplate": "Crop=Moth<br>State_Name=%{x}<br>Production=%{y}<extra></extra>",
         "legendgroup": "Moth",
         "marker": {
          "color": "#636efa",
          "pattern": {
           "shape": ""
          }
         },
         "name": "Moth",
         "offsetgroup": "Moth",
         "orientation": "v",
         "showlegend": true,
         "textposition": "auto",
         "type": "bar",
         "x": [
          "Gujarat",
          "Haryana",
          "Himachal Pradesh",
          "Jammu and Kashmir ",
          "Punjab",
          "Rajasthan",
          "Uttar Pradesh",
          "Uttarakhand",
          "West Bengal"
         ],
         "xaxis": "x",
         "y": [
          8386948.19151373,
          16901121.825278442,
          2912601.211254904,
          2069,
          1800,
          25588614.90553727,
          2913209.711254904,
          582708.4422509808,
          27
         ],
         "yaxis": "y"
        },
        {
         "alignmentgroup": "True",
         "hovertemplate": "Crop=Other Cereals & Millets<br>State_Name=%{x}<br>Production=%{y}<extra></extra>",
         "legendgroup": "Other Cereals & Millets",
         "marker": {
          "color": "#EF553B",
          "pattern": {
           "shape": ""
          }
         },
         "name": "Other Cereals & Millets",
         "offsetgroup": "Other Cereals & Millets",
         "orientation": "v",
         "showlegend": true,
         "textposition": "auto",
         "type": "bar",
         "x": [
          "Gujarat",
          "Jammu and Kashmir ",
          "Kerala",
          "Maharashtra",
          "Puducherry",
          "Sikkim",
          "Tamil Nadu",
          "Uttarakhand"
         ],
         "xaxis": "x",
         "y": [
          7995544.74926275,
          302.7,
          1989,
          2470913.769003923,
          729,
          21957,
          75741,
          2268937.326752942
         ],
         "yaxis": "y"
        },
        {
         "alignmentgroup": "True",
         "hovertemplate": "Crop=Carrot<br>State_Name=%{x}<br>Production=%{y}<extra></extra>",
         "legendgroup": "Carrot",
         "marker": {
          "color": "#00cc96",
          "pattern": {
           "shape": ""
          }
         },
         "name": "Carrot",
         "offsetgroup": "Carrot",
         "orientation": "v",
         "showlegend": true,
         "textposition": "auto",
         "type": "bar",
         "x": [
          "Jammu and Kashmir ",
          "Manipur",
          "Tamil Nadu"
         ],
         "xaxis": "x",
         "y": [
          22,
          4044,
          0
         ],
         "yaxis": "y"
        },
        {
         "alignmentgroup": "True",
         "hovertemplate": "Crop=Cond-spcs other<br>State_Name=%{x}<br>Production=%{y}<extra></extra>",
         "legendgroup": "Cond-spcs other",
         "marker": {
          "color": "#ab63fa",
          "pattern": {
           "shape": ""
          }
         },
         "name": "Cond-spcs other",
         "offsetgroup": "Cond-spcs other",
         "orientation": "v",
         "showlegend": true,
         "textposition": "auto",
         "type": "bar",
         "x": [
          "Jammu and Kashmir "
         ],
         "xaxis": "x",
         "y": [
          2260.4
         ],
         "yaxis": "y"
        },
        {
         "alignmentgroup": "True",
         "hovertemplate": "Crop=Redish<br>State_Name=%{x}<br>Production=%{y}<extra></extra>",
         "legendgroup": "Redish",
         "marker": {
          "color": "#FFA15A",
          "pattern": {
           "shape": ""
          }
         },
         "name": "Redish",
         "offsetgroup": "Redish",
         "orientation": "v",
         "showlegend": true,
         "textposition": "auto",
         "type": "bar",
         "x": [
          "Jammu and Kashmir ",
          "Manipur",
          "Tamil Nadu"
         ],
         "xaxis": "x",
         "y": [
          230,
          3706,
          0
         ],
         "yaxis": "y"
        },
        {
         "alignmentgroup": "True",
         "hovertemplate": "Crop=Turnip<br>State_Name=%{x}<br>Production=%{y}<extra></extra>",
         "legendgroup": "Turnip",
         "marker": {
          "color": "#19d3f3",
          "pattern": {
           "shape": ""
          }
         },
         "name": "Turnip",
         "offsetgroup": "Turnip",
         "orientation": "v",
         "showlegend": true,
         "textposition": "auto",
         "type": "bar",
         "x": [
          "Jammu and Kashmir ",
          "Tamil Nadu"
         ],
         "xaxis": "x",
         "y": [
          363,
          0
         ],
         "yaxis": "y"
        },
        {
         "alignmentgroup": "True",
         "hovertemplate": "Crop=Arcanut (Processed)<br>State_Name=%{x}<br>Production=%{y}<extra></extra>",
         "legendgroup": "Arcanut (Processed)",
         "marker": {
          "color": "#FF6692",
          "pattern": {
           "shape": ""
          }
         },
         "name": "Arcanut (Processed)",
         "offsetgroup": "Arcanut (Processed)",
         "orientation": "v",
         "showlegend": true,
         "textposition": "auto",
         "type": "bar",
         "x": [
          "Karnataka"
         ],
         "xaxis": "x",
         "y": [
          192831
         ],
         "yaxis": "y"
        },
        {
         "alignmentgroup": "True",
         "hovertemplate": "Crop=Atcanut (Raw)<br>State_Name=%{x}<br>Production=%{y}<extra></extra>",
         "legendgroup": "Atcanut (Raw)",
         "marker": {
          "color": "#B6E880",
          "pattern": {
           "shape": ""
          }
         },
         "name": "Atcanut (Raw)",
         "offsetgroup": "Atcanut (Raw)",
         "orientation": "v",
         "showlegend": true,
         "textposition": "auto",
         "type": "bar",
         "x": [
          "Karnataka"
         ],
         "xaxis": "x",
         "y": [
          927250
         ],
         "yaxis": "y"
        },
        {
         "alignmentgroup": "True",
         "hovertemplate": "Crop=Cardamom<br>State_Name=%{x}<br>Production=%{y}<extra></extra>",
         "legendgroup": "Cardamom",
         "marker": {
          "color": "#FF97FF",
          "pattern": {
           "shape": ""
          }
         },
         "name": "Cardamom",
         "offsetgroup": "Cardamom",
         "orientation": "v",
         "showlegend": true,
         "textposition": "auto",
         "type": "bar",
         "x": [
          "Karnataka",
          "Kerala",
          "Nagaland",
          "Tamil Nadu",
          "West Bengal"
         ],
         "xaxis": "x",
         "y": [
          7013392.307011769,
          25766493.459043153,
          1690,
          11072313.402768634,
          5611.7
         ],
         "yaxis": "y"
        },
        {
         "alignmentgroup": "True",
         "hovertemplate": "Crop=Cashewnut Processed<br>State_Name=%{x}<br>Production=%{y}<extra></extra>",
         "legendgroup": "Cashewnut Processed",
         "marker": {
          "color": "#FECB52",
          "pattern": {
           "shape": ""
          }
         },
         "name": "Cashewnut Processed",
         "offsetgroup": "Cashewnut Processed",
         "orientation": "v",
         "showlegend": true,
         "textposition": "auto",
         "type": "bar",
         "x": [
          "Karnataka"
         ],
         "xaxis": "x",
         "y": [
          8121
         ],
         "yaxis": "y"
        },
        {
         "alignmentgroup": "True",
         "hovertemplate": "Crop=Cashewnut Raw<br>State_Name=%{x}<br>Production=%{y}<extra></extra>",
         "legendgroup": "Cashewnut Raw",
         "marker": {
          "color": "#636efa",
          "pattern": {
           "shape": ""
          }
         },
         "name": "Cashewnut Raw",
         "offsetgroup": "Cashewnut Raw",
         "orientation": "v",
         "showlegend": true,
         "textposition": "auto",
         "type": "bar",
         "x": [
          "Karnataka",
          "Kerala"
         ],
         "xaxis": "x",
         "y": [
          32375,
          66087
         ],
         "yaxis": "y"
        },
        {
         "alignmentgroup": "True",
         "hovertemplate": "Crop=Bitter Gourd<br>State_Name=%{x}<br>Production=%{y}<extra></extra>",
         "legendgroup": "Bitter Gourd",
         "marker": {
          "color": "#EF553B",
          "pattern": {
           "shape": ""
          }
         },
         "name": "Bitter Gourd",
         "offsetgroup": "Bitter Gourd",
         "orientation": "v",
         "showlegend": true,
         "textposition": "auto",
         "type": "bar",
         "x": [
          "Kerala",
          "Manipur",
          "Tamil Nadu"
         ],
         "xaxis": "x",
         "y": [
          0,
          353,
          0
         ],
         "yaxis": "y"
        },
        {
         "alignmentgroup": "True",
         "hovertemplate": "Crop=Coffee<br>State_Name=%{x}<br>Production=%{y}<extra></extra>",
         "legendgroup": "Coffee",
         "marker": {
          "color": "#00cc96",
          "pattern": {
           "shape": ""
          }
         },
         "name": "Coffee",
         "offsetgroup": "Coffee",
         "orientation": "v",
         "showlegend": true,
         "textposition": "auto",
         "type": "bar",
         "x": [
          "Kerala"
         ],
         "xaxis": "x",
         "y": [
          130012
         ],
         "yaxis": "y"
        },
        {
         "alignmentgroup": "True",
         "hovertemplate": "Crop=Drum Stick<br>State_Name=%{x}<br>Production=%{y}<extra></extra>",
         "legendgroup": "Drum Stick",
         "marker": {
          "color": "#ab63fa",
          "pattern": {
           "shape": ""
          }
         },
         "name": "Drum Stick",
         "offsetgroup": "Drum Stick",
         "orientation": "v",
         "showlegend": true,
         "textposition": "auto",
         "type": "bar",
         "x": [
          "Kerala",
          "Tamil Nadu"
         ],
         "xaxis": "x",
         "y": [
          77113,
          8
         ],
         "yaxis": "y"
        },
        {
         "alignmentgroup": "True",
         "hovertemplate": "Crop=Jack Fruit<br>State_Name=%{x}<br>Production=%{y}<extra></extra>",
         "legendgroup": "Jack Fruit",
         "marker": {
          "color": "#FFA15A",
          "pattern": {
           "shape": ""
          }
         },
         "name": "Jack Fruit",
         "offsetgroup": "Jack Fruit",
         "orientation": "v",
         "showlegend": true,
         "textposition": "auto",
         "type": "bar",
         "x": [
          "Kerala",
          "Manipur",
          "Tamil Nadu"
         ],
         "xaxis": "x",
         "y": [
          8155709.19151373,
          3087,
          57026
         ],
         "yaxis": "y"
        },
        {
         "alignmentgroup": "True",
         "hovertemplate": "Crop=Pump Kin<br>State_Name=%{x}<br>Production=%{y}<extra></extra>",
         "legendgroup": "Pump Kin",
         "marker": {
          "color": "#19d3f3",
          "pattern": {
           "shape": ""
          }
         },
         "name": "Pump Kin",
         "offsetgroup": "Pump Kin",
         "orientation": "v",
         "showlegend": true,
         "textposition": "auto",
         "type": "bar",
         "x": [
          "Kerala",
          "Tamil Nadu"
         ],
         "xaxis": "x",
         "y": [
          24465144.574541193,
          0
         ],
         "yaxis": "y"
        },
        {
         "alignmentgroup": "True",
         "hovertemplate": "Crop=Rubber<br>State_Name=%{x}<br>Production=%{y}<extra></extra>",
         "legendgroup": "Rubber",
         "marker": {
          "color": "#FF6692",
          "pattern": {
           "shape": ""
          }
         },
         "name": "Rubber",
         "offsetgroup": "Rubber",
         "orientation": "v",
         "showlegend": true,
         "textposition": "auto",
         "type": "bar",
         "x": [
          "Kerala",
          "Manipur"
         ],
         "xaxis": "x",
         "y": [
          1175267,
          50
         ],
         "yaxis": "y"
        },
        {
         "alignmentgroup": "True",
         "hovertemplate": "Crop=Snak Guard<br>State_Name=%{x}<br>Production=%{y}<extra></extra>",
         "legendgroup": "Snak Guard",
         "marker": {
          "color": "#B6E880",
          "pattern": {
           "shape": ""
          }
         },
         "name": "Snak Guard",
         "offsetgroup": "Snak Guard",
         "orientation": "v",
         "showlegend": true,
         "textposition": "auto",
         "type": "bar",
         "x": [
          "Kerala",
          "Tamil Nadu"
         ],
         "xaxis": "x",
         "y": [
          0,
          0
         ],
         "yaxis": "y"
        },
        {
         "alignmentgroup": "True",
         "hovertemplate": "Crop=Tea<br>State_Name=%{x}<br>Production=%{y}<extra></extra>",
         "legendgroup": "Tea",
         "marker": {
          "color": "#FF97FF",
          "pattern": {
           "shape": ""
          }
         },
         "name": "Tea",
         "offsetgroup": "Tea",
         "orientation": "v",
         "showlegend": true,
         "textposition": "auto",
         "type": "bar",
         "x": [
          "Kerala",
          "Nagaland"
         ],
         "xaxis": "x",
         "y": [
          121079.3,
          14902
         ],
         "yaxis": "y"
        },
        {
         "alignmentgroup": "True",
         "hovertemplate": "Crop=Cauliflower<br>State_Name=%{x}<br>Production=%{y}<extra></extra>",
         "legendgroup": "Cauliflower",
         "marker": {
          "color": "#FECB52",
          "pattern": {
           "shape": ""
          }
         },
         "name": "Cauliflower",
         "offsetgroup": "Cauliflower",
         "orientation": "v",
         "showlegend": true,
         "textposition": "auto",
         "type": "bar",
         "x": [
          "Madhya Pradesh",
          "Manipur",
          "Tamil Nadu"
         ],
         "xaxis": "x",
         "y": [
          0,
          18433,
          0
         ],
         "yaxis": "y"
        },
        {
         "alignmentgroup": "True",
         "hovertemplate": "Crop=Other Citrus Fruit<br>State_Name=%{x}<br>Production=%{y}<extra></extra>",
         "legendgroup": "Other Citrus Fruit",
         "marker": {
          "color": "#636efa",
          "pattern": {
           "shape": ""
          }
         },
         "name": "Other Citrus Fruit",
         "offsetgroup": "Other Citrus Fruit",
         "orientation": "v",
         "showlegend": true,
         "textposition": "auto",
         "type": "bar",
         "x": [
          "Madhya Pradesh",
          "Tamil Nadu"
         ],
         "xaxis": "x",
         "y": [
          0,
          0
         ],
         "yaxis": "y"
        },
        {
         "alignmentgroup": "True",
         "hovertemplate": "Crop=Water Melon<br>State_Name=%{x}<br>Production=%{y}<extra></extra>",
         "legendgroup": "Water Melon",
         "marker": {
          "color": "#EF553B",
          "pattern": {
           "shape": ""
          }
         },
         "name": "Water Melon",
         "offsetgroup": "Water Melon",
         "orientation": "v",
         "showlegend": true,
         "textposition": "auto",
         "type": "bar",
         "x": [
          "Madhya Pradesh",
          "Rajasthan",
          "Tamil Nadu"
         ],
         "xaxis": "x",
         "y": [
          0,
          0,
          0
         ],
         "yaxis": "y"
        },
        {
         "alignmentgroup": "True",
         "hovertemplate": "Crop=Total foodgrain<br>State_Name=%{x}<br>Production=%{y}<extra></extra>",
         "legendgroup": "Total foodgrain",
         "marker": {
          "color": "#00cc96",
          "pattern": {
           "shape": ""
          }
         },
         "name": "Total foodgrain",
         "offsetgroup": "Total foodgrain",
         "orientation": "v",
         "showlegend": true,
         "textposition": "auto",
         "type": "bar",
         "x": [
          "Maharashtra",
          "Meghalaya",
          "Sikkim",
          "Tamil Nadu",
          "Uttar Pradesh",
          "Uttarakhand"
         ],
         "xaxis": "x",
         "y": [
          71618,
          172595,
          92247,
          9121209,
          30587158,
          3225930
         ],
         "yaxis": "y"
        },
        {
         "alignmentgroup": "True",
         "hovertemplate": "Crop=Kapas<br>State_Name=%{x}<br>Production=%{y}<extra></extra>",
         "legendgroup": "Kapas",
         "marker": {
          "color": "#ab63fa",
          "pattern": {
           "shape": ""
          }
         },
         "name": "Kapas",
         "offsetgroup": "Kapas",
         "orientation": "v",
         "showlegend": true,
         "textposition": "auto",
         "type": "bar",
         "x": [
          "Manipur",
          "Meghalaya",
          "Mizoram"
         ],
         "xaxis": "x",
         "y": [
          2,
          7684,
          856
         ],
         "yaxis": "y"
        },
        {
         "alignmentgroup": "True",
         "hovertemplate": "Crop=Bean<br>State_Name=%{x}<br>Production=%{y}<extra></extra>",
         "legendgroup": "Bean",
         "marker": {
          "color": "#FFA15A",
          "pattern": {
           "shape": ""
          }
         },
         "name": "Bean",
         "offsetgroup": "Bean",
         "orientation": "v",
         "showlegend": true,
         "textposition": "auto",
         "type": "bar",
         "x": [
          "Nagaland"
         ],
         "xaxis": "x",
         "y": [
          6240
         ],
         "yaxis": "y"
        },
        {
         "alignmentgroup": "True",
         "hovertemplate": "Crop=Colocosia<br>State_Name=%{x}<br>Production=%{y}<extra></extra>",
         "legendgroup": "Colocosia",
         "marker": {
          "color": "#19d3f3",
          "pattern": {
           "shape": ""
          }
         },
         "name": "Colocosia",
         "offsetgroup": "Colocosia",
         "orientation": "v",
         "showlegend": true,
         "textposition": "auto",
         "type": "bar",
         "x": [
          "Nagaland"
         ],
         "xaxis": "x",
         "y": [
          49840
         ],
         "yaxis": "y"
        },
        {
         "alignmentgroup": "True",
         "hovertemplate": "Crop=Jobster<br>State_Name=%{x}<br>Production=%{y}<extra></extra>",
         "legendgroup": "Jobster",
         "marker": {
          "color": "#FF6692",
          "pattern": {
           "shape": ""
          }
         },
         "name": "Jobster",
         "offsetgroup": "Jobster",
         "orientation": "v",
         "showlegend": true,
         "textposition": "auto",
         "type": "bar",
         "x": [
          "Nagaland"
         ],
         "xaxis": "x",
         "y": [
          1180
         ],
         "yaxis": "y"
        },
        {
         "alignmentgroup": "True",
         "hovertemplate": "Crop=Lentil<br>State_Name=%{x}<br>Production=%{y}<extra></extra>",
         "legendgroup": "Lentil",
         "marker": {
          "color": "#B6E880",
          "pattern": {
           "shape": ""
          }
         },
         "name": "Lentil",
         "offsetgroup": "Lentil",
         "orientation": "v",
         "showlegend": true,
         "textposition": "auto",
         "type": "bar",
         "x": [
          "Nagaland",
          "Uttarakhand"
         ],
         "xaxis": "x",
         "y": [
          3410,
          7352
         ],
         "yaxis": "y"
        },
        {
         "alignmentgroup": "True",
         "hovertemplate": "Crop=Perilla<br>State_Name=%{x}<br>Production=%{y}<extra></extra>",
         "legendgroup": "Perilla",
         "marker": {
          "color": "#FF97FF",
          "pattern": {
           "shape": ""
          }
         },
         "name": "Perilla",
         "offsetgroup": "Perilla",
         "orientation": "v",
         "showlegend": true,
         "textposition": "auto",
         "type": "bar",
         "x": [
          "Nagaland"
         ],
         "xaxis": "x",
         "y": [
          1410
         ],
         "yaxis": "y"
        },
        {
         "alignmentgroup": "True",
         "hovertemplate": "Crop=Rajmash Kholar<br>State_Name=%{x}<br>Production=%{y}<extra></extra>",
         "legendgroup": "Rajmash Kholar",
         "marker": {
          "color": "#FECB52",
          "pattern": {
           "shape": ""
          }
         },
         "name": "Rajmash Kholar",
         "offsetgroup": "Rajmash Kholar",
         "orientation": "v",
         "showlegend": true,
         "textposition": "auto",
         "type": "bar",
         "x": [
          "Nagaland"
         ],
         "xaxis": "x",
         "y": [
          18590
         ],
         "yaxis": "y"
        },
        {
         "alignmentgroup": "True",
         "hovertemplate": "Crop=Ricebean (nagadal)<br>State_Name=%{x}<br>Production=%{y}<extra></extra>",
         "legendgroup": "Ricebean (nagadal)",
         "marker": {
          "color": "#636efa",
          "pattern": {
           "shape": ""
          }
         },
         "name": "Ricebean (nagadal)",
         "offsetgroup": "Ricebean (nagadal)",
         "orientation": "v",
         "showlegend": true,
         "textposition": "auto",
         "type": "bar",
         "x": [
          "Nagaland"
         ],
         "xaxis": "x",
         "y": [
          5230
         ],
         "yaxis": "y"
        },
        {
         "alignmentgroup": "True",
         "hovertemplate": "Crop=Apple<br>State_Name=%{x}<br>Production=%{y}<extra></extra>",
         "legendgroup": "Apple",
         "marker": {
          "color": "#EF553B",
          "pattern": {
           "shape": ""
          }
         },
         "name": "Apple",
         "offsetgroup": "Apple",
         "orientation": "v",
         "showlegend": true,
         "textposition": "auto",
         "type": "bar",
         "x": [
          "Tamil Nadu"
         ],
         "xaxis": "x",
         "y": [
          0
         ],
         "yaxis": "y"
        },
        {
         "alignmentgroup": "True",
         "hovertemplate": "Crop=Ash Gourd<br>State_Name=%{x}<br>Production=%{y}<extra></extra>",
         "legendgroup": "Ash Gourd",
         "marker": {
          "color": "#00cc96",
          "pattern": {
           "shape": ""
          }
         },
         "name": "Ash Gourd",
         "offsetgroup": "Ash Gourd",
         "orientation": "v",
         "showlegend": true,
         "textposition": "auto",
         "type": "bar",
         "x": [
          "Tamil Nadu"
         ],
         "xaxis": "x",
         "y": [
          0
         ],
         "yaxis": "y"
        },
        {
         "alignmentgroup": "True",
         "hovertemplate": "Crop=Beet Root<br>State_Name=%{x}<br>Production=%{y}<extra></extra>",
         "legendgroup": "Beet Root",
         "marker": {
          "color": "#ab63fa",
          "pattern": {
           "shape": ""
          }
         },
         "name": "Beet Root",
         "offsetgroup": "Beet Root",
         "orientation": "v",
         "showlegend": true,
         "textposition": "auto",
         "type": "bar",
         "x": [
          "Tamil Nadu"
         ],
         "xaxis": "x",
         "y": [
          0
         ],
         "yaxis": "y"
        },
        {
         "alignmentgroup": "True",
         "hovertemplate": "Crop=Ber<br>State_Name=%{x}<br>Production=%{y}<extra></extra>",
         "legendgroup": "Ber",
         "marker": {
          "color": "#FFA15A",
          "pattern": {
           "shape": ""
          }
         },
         "name": "Ber",
         "offsetgroup": "Ber",
         "orientation": "v",
         "showlegend": true,
         "textposition": "auto",
         "type": "bar",
         "x": [
          "Tamil Nadu"
         ],
         "xaxis": "x",
         "y": [
          0
         ],
         "yaxis": "y"
        },
        {
         "alignmentgroup": "True",
         "hovertemplate": "Crop=Lab-Lab<br>State_Name=%{x}<br>Production=%{y}<extra></extra>",
         "legendgroup": "Lab-Lab",
         "marker": {
          "color": "#19d3f3",
          "pattern": {
           "shape": ""
          }
         },
         "name": "Lab-Lab",
         "offsetgroup": "Lab-Lab",
         "orientation": "v",
         "showlegend": true,
         "textposition": "auto",
         "type": "bar",
         "x": [
          "Tamil Nadu"
         ],
         "xaxis": "x",
         "y": [
          0
         ],
         "yaxis": "y"
        },
        {
         "alignmentgroup": "True",
         "hovertemplate": "Crop=Litchi<br>State_Name=%{x}<br>Production=%{y}<extra></extra>",
         "legendgroup": "Litchi",
         "marker": {
          "color": "#FF6692",
          "pattern": {
           "shape": ""
          }
         },
         "name": "Litchi",
         "offsetgroup": "Litchi",
         "orientation": "v",
         "showlegend": true,
         "textposition": "auto",
         "type": "bar",
         "x": [
          "Tamil Nadu"
         ],
         "xaxis": "x",
         "y": [
          0
         ],
         "yaxis": "y"
        },
        {
         "alignmentgroup": "True",
         "hovertemplate": "Crop=Peach<br>State_Name=%{x}<br>Production=%{y}<extra></extra>",
         "legendgroup": "Peach",
         "marker": {
          "color": "#B6E880",
          "pattern": {
           "shape": ""
          }
         },
         "name": "Peach",
         "offsetgroup": "Peach",
         "orientation": "v",
         "showlegend": true,
         "textposition": "auto",
         "type": "bar",
         "x": [
          "Tamil Nadu"
         ],
         "xaxis": "x",
         "y": [
          0
         ],
         "yaxis": "y"
        },
        {
         "alignmentgroup": "True",
         "hovertemplate": "Crop=Pear<br>State_Name=%{x}<br>Production=%{y}<extra></extra>",
         "legendgroup": "Pear",
         "marker": {
          "color": "#FF97FF",
          "pattern": {
           "shape": ""
          }
         },
         "name": "Pear",
         "offsetgroup": "Pear",
         "orientation": "v",
         "showlegend": true,
         "textposition": "auto",
         "type": "bar",
         "x": [
          "Tamil Nadu"
         ],
         "xaxis": "x",
         "y": [
          0
         ],
         "yaxis": "y"
        },
        {
         "alignmentgroup": "True",
         "hovertemplate": "Crop=Plums<br>State_Name=%{x}<br>Production=%{y}<extra></extra>",
         "legendgroup": "Plums",
         "marker": {
          "color": "#FECB52",
          "pattern": {
           "shape": ""
          }
         },
         "name": "Plums",
         "offsetgroup": "Plums",
         "orientation": "v",
         "showlegend": true,
         "textposition": "auto",
         "type": "bar",
         "x": [
          "Tamil Nadu"
         ],
         "xaxis": "x",
         "y": [
          0
         ],
         "yaxis": "y"
        },
        {
         "alignmentgroup": "True",
         "hovertemplate": "Crop=Ribed Guard<br>State_Name=%{x}<br>Production=%{y}<extra></extra>",
         "legendgroup": "Ribed Guard",
         "marker": {
          "color": "#636efa",
          "pattern": {
           "shape": ""
          }
         },
         "name": "Ribed Guard",
         "offsetgroup": "Ribed Guard",
         "orientation": "v",
         "showlegend": true,
         "textposition": "auto",
         "type": "bar",
         "x": [
          "Tamil Nadu"
         ],
         "xaxis": "x",
         "y": [
          0
         ],
         "yaxis": "y"
        },
        {
         "alignmentgroup": "True",
         "hovertemplate": "Crop=Yam<br>State_Name=%{x}<br>Production=%{y}<extra></extra>",
         "legendgroup": "Yam",
         "marker": {
          "color": "#EF553B",
          "pattern": {
           "shape": ""
          }
         },
         "name": "Yam",
         "offsetgroup": "Yam",
         "orientation": "v",
         "showlegend": true,
         "textposition": "auto",
         "type": "bar",
         "x": [
          "Tamil Nadu"
         ],
         "xaxis": "x",
         "y": [
          0
         ],
         "yaxis": "y"
        },
        {
         "alignmentgroup": "True",
         "hovertemplate": "Crop=Other Dry Fruit<br>State_Name=%{x}<br>Production=%{y}<extra></extra>",
         "legendgroup": "Other Dry Fruit",
         "marker": {
          "color": "#00cc96",
          "pattern": {
           "shape": ""
          }
         },
         "name": "Other Dry Fruit",
         "offsetgroup": "Other Dry Fruit",
         "orientation": "v",
         "showlegend": true,
         "textposition": "auto",
         "type": "bar",
         "x": [
          "Telangana "
         ],
         "xaxis": "x",
         "y": [
          0
         ],
         "yaxis": "y"
        },
        {
         "alignmentgroup": "True",
         "hovertemplate": "Crop=Jute & mesta<br>State_Name=%{x}<br>Production=%{y}<extra></extra>",
         "legendgroup": "Jute & mesta",
         "marker": {
          "color": "#ab63fa",
          "pattern": {
           "shape": ""
          }
         },
         "name": "Jute & mesta",
         "offsetgroup": "Jute & mesta",
         "orientation": "v",
         "showlegend": true,
         "textposition": "auto",
         "type": "bar",
         "x": [
          "Tripura"
         ],
         "xaxis": "x",
         "y": [
          112315
         ],
         "yaxis": "y"
        }
       ],
       "layout": {
        "barmode": "stack",
        "legend": {
         "title": {
          "text": "Crop"
         },
         "tracegroupgap": 0
        },
        "template": {
         "data": {
          "bar": [
           {
            "error_x": {
             "color": "#2a3f5f"
            },
            "error_y": {
             "color": "#2a3f5f"
            },
            "marker": {
             "line": {
              "color": "#E5ECF6",
              "width": 0.5
             },
             "pattern": {
              "fillmode": "overlay",
              "size": 10,
              "solidity": 0.2
             }
            },
            "type": "bar"
           }
          ],
          "barpolar": [
           {
            "marker": {
             "line": {
              "color": "#E5ECF6",
              "width": 0.5
             },
             "pattern": {
              "fillmode": "overlay",
              "size": 10,
              "solidity": 0.2
             }
            },
            "type": "barpolar"
           }
          ],
          "carpet": [
           {
            "aaxis": {
             "endlinecolor": "#2a3f5f",
             "gridcolor": "white",
             "linecolor": "white",
             "minorgridcolor": "white",
             "startlinecolor": "#2a3f5f"
            },
            "baxis": {
             "endlinecolor": "#2a3f5f",
             "gridcolor": "white",
             "linecolor": "white",
             "minorgridcolor": "white",
             "startlinecolor": "#2a3f5f"
            },
            "type": "carpet"
           }
          ],
          "choropleth": [
           {
            "colorbar": {
             "outlinewidth": 0,
             "ticks": ""
            },
            "type": "choropleth"
           }
          ],
          "contour": [
           {
            "colorbar": {
             "outlinewidth": 0,
             "ticks": ""
            },
            "colorscale": [
             [
              0,
              "#0d0887"
             ],
             [
              0.1111111111111111,
              "#46039f"
             ],
             [
              0.2222222222222222,
              "#7201a8"
             ],
             [
              0.3333333333333333,
              "#9c179e"
             ],
             [
              0.4444444444444444,
              "#bd3786"
             ],
             [
              0.5555555555555556,
              "#d8576b"
             ],
             [
              0.6666666666666666,
              "#ed7953"
             ],
             [
              0.7777777777777778,
              "#fb9f3a"
             ],
             [
              0.8888888888888888,
              "#fdca26"
             ],
             [
              1,
              "#f0f921"
             ]
            ],
            "type": "contour"
           }
          ],
          "contourcarpet": [
           {
            "colorbar": {
             "outlinewidth": 0,
             "ticks": ""
            },
            "type": "contourcarpet"
           }
          ],
          "heatmap": [
           {
            "colorbar": {
             "outlinewidth": 0,
             "ticks": ""
            },
            "colorscale": [
             [
              0,
              "#0d0887"
             ],
             [
              0.1111111111111111,
              "#46039f"
             ],
             [
              0.2222222222222222,
              "#7201a8"
             ],
             [
              0.3333333333333333,
              "#9c179e"
             ],
             [
              0.4444444444444444,
              "#bd3786"
             ],
             [
              0.5555555555555556,
              "#d8576b"
             ],
             [
              0.6666666666666666,
              "#ed7953"
             ],
             [
              0.7777777777777778,
              "#fb9f3a"
             ],
             [
              0.8888888888888888,
              "#fdca26"
             ],
             [
              1,
              "#f0f921"
             ]
            ],
            "type": "heatmap"
           }
          ],
          "heatmapgl": [
           {
            "colorbar": {
             "outlinewidth": 0,
             "ticks": ""
            },
            "colorscale": [
             [
              0,
              "#0d0887"
             ],
             [
              0.1111111111111111,
              "#46039f"
             ],
             [
              0.2222222222222222,
              "#7201a8"
             ],
             [
              0.3333333333333333,
              "#9c179e"
             ],
             [
              0.4444444444444444,
              "#bd3786"
             ],
             [
              0.5555555555555556,
              "#d8576b"
             ],
             [
              0.6666666666666666,
              "#ed7953"
             ],
             [
              0.7777777777777778,
              "#fb9f3a"
             ],
             [
              0.8888888888888888,
              "#fdca26"
             ],
             [
              1,
              "#f0f921"
             ]
            ],
            "type": "heatmapgl"
           }
          ],
          "histogram": [
           {
            "marker": {
             "pattern": {
              "fillmode": "overlay",
              "size": 10,
              "solidity": 0.2
             }
            },
            "type": "histogram"
           }
          ],
          "histogram2d": [
           {
            "colorbar": {
             "outlinewidth": 0,
             "ticks": ""
            },
            "colorscale": [
             [
              0,
              "#0d0887"
             ],
             [
              0.1111111111111111,
              "#46039f"
             ],
             [
              0.2222222222222222,
              "#7201a8"
             ],
             [
              0.3333333333333333,
              "#9c179e"
             ],
             [
              0.4444444444444444,
              "#bd3786"
             ],
             [
              0.5555555555555556,
              "#d8576b"
             ],
             [
              0.6666666666666666,
              "#ed7953"
             ],
             [
              0.7777777777777778,
              "#fb9f3a"
             ],
             [
              0.8888888888888888,
              "#fdca26"
             ],
             [
              1,
              "#f0f921"
             ]
            ],
            "type": "histogram2d"
           }
          ],
          "histogram2dcontour": [
           {
            "colorbar": {
             "outlinewidth": 0,
             "ticks": ""
            },
            "colorscale": [
             [
              0,
              "#0d0887"
             ],
             [
              0.1111111111111111,
              "#46039f"
             ],
             [
              0.2222222222222222,
              "#7201a8"
             ],
             [
              0.3333333333333333,
              "#9c179e"
             ],
             [
              0.4444444444444444,
              "#bd3786"
             ],
             [
              0.5555555555555556,
              "#d8576b"
             ],
             [
              0.6666666666666666,
              "#ed7953"
             ],
             [
              0.7777777777777778,
              "#fb9f3a"
             ],
             [
              0.8888888888888888,
              "#fdca26"
             ],
             [
              1,
              "#f0f921"
             ]
            ],
            "type": "histogram2dcontour"
           }
          ],
          "mesh3d": [
           {
            "colorbar": {
             "outlinewidth": 0,
             "ticks": ""
            },
            "type": "mesh3d"
           }
          ],
          "parcoords": [
           {
            "line": {
             "colorbar": {
              "outlinewidth": 0,
              "ticks": ""
             }
            },
            "type": "parcoords"
           }
          ],
          "pie": [
           {
            "automargin": true,
            "type": "pie"
           }
          ],
          "scatter": [
           {
            "fillpattern": {
             "fillmode": "overlay",
             "size": 10,
             "solidity": 0.2
            },
            "type": "scatter"
           }
          ],
          "scatter3d": [
           {
            "line": {
             "colorbar": {
              "outlinewidth": 0,
              "ticks": ""
             }
            },
            "marker": {
             "colorbar": {
              "outlinewidth": 0,
              "ticks": ""
             }
            },
            "type": "scatter3d"
           }
          ],
          "scattercarpet": [
           {
            "marker": {
             "colorbar": {
              "outlinewidth": 0,
              "ticks": ""
             }
            },
            "type": "scattercarpet"
           }
          ],
          "scattergeo": [
           {
            "marker": {
             "colorbar": {
              "outlinewidth": 0,
              "ticks": ""
             }
            },
            "type": "scattergeo"
           }
          ],
          "scattergl": [
           {
            "marker": {
             "colorbar": {
              "outlinewidth": 0,
              "ticks": ""
             }
            },
            "type": "scattergl"
           }
          ],
          "scattermapbox": [
           {
            "marker": {
             "colorbar": {
              "outlinewidth": 0,
              "ticks": ""
             }
            },
            "type": "scattermapbox"
           }
          ],
          "scatterpolar": [
           {
            "marker": {
             "colorbar": {
              "outlinewidth": 0,
              "ticks": ""
             }
            },
            "type": "scatterpolar"
           }
          ],
          "scatterpolargl": [
           {
            "marker": {
             "colorbar": {
              "outlinewidth": 0,
              "ticks": ""
             }
            },
            "type": "scatterpolargl"
           }
          ],
          "scatterternary": [
           {
            "marker": {
             "colorbar": {
              "outlinewidth": 0,
              "ticks": ""
             }
            },
            "type": "scatterternary"
           }
          ],
          "surface": [
           {
            "colorbar": {
             "outlinewidth": 0,
             "ticks": ""
            },
            "colorscale": [
             [
              0,
              "#0d0887"
             ],
             [
              0.1111111111111111,
              "#46039f"
             ],
             [
              0.2222222222222222,
              "#7201a8"
             ],
             [
              0.3333333333333333,
              "#9c179e"
             ],
             [
              0.4444444444444444,
              "#bd3786"
             ],
             [
              0.5555555555555556,
              "#d8576b"
             ],
             [
              0.6666666666666666,
              "#ed7953"
             ],
             [
              0.7777777777777778,
              "#fb9f3a"
             ],
             [
              0.8888888888888888,
              "#fdca26"
             ],
             [
              1,
              "#f0f921"
             ]
            ],
            "type": "surface"
           }
          ],
          "table": [
           {
            "cells": {
             "fill": {
              "color": "#EBF0F8"
             },
             "line": {
              "color": "white"
             }
            },
            "header": {
             "fill": {
              "color": "#C8D4E3"
             },
             "line": {
              "color": "white"
             }
            },
            "type": "table"
           }
          ]
         },
         "layout": {
          "annotationdefaults": {
           "arrowcolor": "#2a3f5f",
           "arrowhead": 0,
           "arrowwidth": 1
          },
          "autotypenumbers": "strict",
          "coloraxis": {
           "colorbar": {
            "outlinewidth": 0,
            "ticks": ""
           }
          },
          "colorscale": {
           "diverging": [
            [
             0,
             "#8e0152"
            ],
            [
             0.1,
             "#c51b7d"
            ],
            [
             0.2,
             "#de77ae"
            ],
            [
             0.3,
             "#f1b6da"
            ],
            [
             0.4,
             "#fde0ef"
            ],
            [
             0.5,
             "#f7f7f7"
            ],
            [
             0.6,
             "#e6f5d0"
            ],
            [
             0.7,
             "#b8e186"
            ],
            [
             0.8,
             "#7fbc41"
            ],
            [
             0.9,
             "#4d9221"
            ],
            [
             1,
             "#276419"
            ]
           ],
           "sequential": [
            [
             0,
             "#0d0887"
            ],
            [
             0.1111111111111111,
             "#46039f"
            ],
            [
             0.2222222222222222,
             "#7201a8"
            ],
            [
             0.3333333333333333,
             "#9c179e"
            ],
            [
             0.4444444444444444,
             "#bd3786"
            ],
            [
             0.5555555555555556,
             "#d8576b"
            ],
            [
             0.6666666666666666,
             "#ed7953"
            ],
            [
             0.7777777777777778,
             "#fb9f3a"
            ],
            [
             0.8888888888888888,
             "#fdca26"
            ],
            [
             1,
             "#f0f921"
            ]
           ],
           "sequentialminus": [
            [
             0,
             "#0d0887"
            ],
            [
             0.1111111111111111,
             "#46039f"
            ],
            [
             0.2222222222222222,
             "#7201a8"
            ],
            [
             0.3333333333333333,
             "#9c179e"
            ],
            [
             0.4444444444444444,
             "#bd3786"
            ],
            [
             0.5555555555555556,
             "#d8576b"
            ],
            [
             0.6666666666666666,
             "#ed7953"
            ],
            [
             0.7777777777777778,
             "#fb9f3a"
            ],
            [
             0.8888888888888888,
             "#fdca26"
            ],
            [
             1,
             "#f0f921"
            ]
           ]
          },
          "colorway": [
           "#636efa",
           "#EF553B",
           "#00cc96",
           "#ab63fa",
           "#FFA15A",
           "#19d3f3",
           "#FF6692",
           "#B6E880",
           "#FF97FF",
           "#FECB52"
          ],
          "font": {
           "color": "#2a3f5f"
          },
          "geo": {
           "bgcolor": "white",
           "lakecolor": "white",
           "landcolor": "#E5ECF6",
           "showlakes": true,
           "showland": true,
           "subunitcolor": "white"
          },
          "hoverlabel": {
           "align": "left"
          },
          "hovermode": "closest",
          "mapbox": {
           "style": "light"
          },
          "paper_bgcolor": "white",
          "plot_bgcolor": "#E5ECF6",
          "polar": {
           "angularaxis": {
            "gridcolor": "white",
            "linecolor": "white",
            "ticks": ""
           },
           "bgcolor": "#E5ECF6",
           "radialaxis": {
            "gridcolor": "white",
            "linecolor": "white",
            "ticks": ""
           }
          },
          "scene": {
           "xaxis": {
            "backgroundcolor": "#E5ECF6",
            "gridcolor": "white",
            "gridwidth": 2,
            "linecolor": "white",
            "showbackground": true,
            "ticks": "",
            "zerolinecolor": "white"
           },
           "yaxis": {
            "backgroundcolor": "#E5ECF6",
            "gridcolor": "white",
            "gridwidth": 2,
            "linecolor": "white",
            "showbackground": true,
            "ticks": "",
            "zerolinecolor": "white"
           },
           "zaxis": {
            "backgroundcolor": "#E5ECF6",
            "gridcolor": "white",
            "gridwidth": 2,
            "linecolor": "white",
            "showbackground": true,
            "ticks": "",
            "zerolinecolor": "white"
           }
          },
          "shapedefaults": {
           "line": {
            "color": "#2a3f5f"
           }
          },
          "ternary": {
           "aaxis": {
            "gridcolor": "white",
            "linecolor": "white",
            "ticks": ""
           },
           "baxis": {
            "gridcolor": "white",
            "linecolor": "white",
            "ticks": ""
           },
           "bgcolor": "#E5ECF6",
           "caxis": {
            "gridcolor": "white",
            "linecolor": "white",
            "ticks": ""
           }
          },
          "title": {
           "x": 0.05
          },
          "xaxis": {
           "automargin": true,
           "gridcolor": "white",
           "linecolor": "white",
           "ticks": "",
           "title": {
            "standoff": 15
           },
           "zerolinecolor": "white",
           "zerolinewidth": 2
          },
          "yaxis": {
           "automargin": true,
           "gridcolor": "white",
           "linecolor": "white",
           "ticks": "",
           "title": {
            "standoff": 15
           },
           "zerolinecolor": "white",
           "zerolinewidth": 2
          }
         }
        },
        "title": {
         "text": "Crop Production by State"
        },
        "xaxis": {
         "anchor": "y",
         "categoryorder": "total descending",
         "domain": [
          0,
          1
         ],
         "title": {
          "text": "State"
         }
        },
        "yaxis": {
         "anchor": "x",
         "domain": [
          0,
          1
         ],
         "title": {
          "text": "Total Production"
         }
        }
       }
      }
     },
     "metadata": {},
     "output_type": "display_data"
    }
   ],
   "source": [
    "\n",
    "# Aggregate data by State and Crop for production\n",
    "state_crop_production = data.groupby(['State_Name', 'Crop'])['Production'].sum().reset_index()\n",
    "\n",
    "# Interactive plot\n",
    "fig = px.bar(state_crop_production, x='State_Name', y='Production', color='Crop', \n",
    "             title=\"Crop Production by State\", barmode='stack')\n",
    "fig.update_layout(xaxis={'categoryorder':'total descending'}, \n",
    "                  xaxis_title='State', yaxis_title='Total Production')\n",
    "fig.show()\n"
   ]
  },
  {
   "cell_type": "code",
   "execution_count": 21,
   "metadata": {},
   "outputs": [
    {
     "data": {
      "image/png": "[encoded data removed]",
      "text/plain": [
       "<Figure size 1200x800 with 1 Axes>"
      ]
     },
     "metadata": {},
     "output_type": "display_data"
    }
   ],
   "source": [
    "\n",
    "\n",
    "# Scatter plot of Area vs. Production, colored by Crop\n",
    "plt.figure(figsize=(12, 8))\n",
    "sns.scatterplot(data=data, x='Area', y='Production', hue='Crop', alpha=0.7, palette='viridis')\n",
    "\n",
    "plt.title('Scatter Plot of Area vs. Production by Crop')\n",
    "plt.xlabel('Area (hectares)')\n",
    "plt.ylabel('Production (tonnes)')\n",
    "plt.legend(title='Crop', bbox_to_anchor=(1.05, 1), loc='upper left')\n",
    "plt.show()\n"
   ]
  },
  {
   "cell_type": "code",
   "execution_count": null,
   "metadata": {},
   "outputs": [],
   "source": []
  }
 ],
 "metadata": {
  "kernelspec": {
   "display_name": "base",
   "language": "python",
   "name": "python3"
  },
  "language_info": {
   "codemirror_mode": {
    "name": "ipython",
    "version": 3
   },
   "file_extension": ".py",
   "mimetype": "text/x-python",
   "name": "python",
   "nbconvert_exporter": "python",
   "pygments_lexer": "ipython3",
   "version": "3.12.4"
  }
 },
 "nbformat": 4,
 "nbformat_minor": 2
}
